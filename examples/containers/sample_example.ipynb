{
 "cells": [
  {
   "cell_type": "markdown",
   "id": "bb679245",
   "metadata": {},
   "source": [
    "# Sample Examples\n",
    "\n",
    "This Jupyter Notebook demonstrates various operations and methods involving a sample data structure using the PLAID library. It includes examples of:\n",
    "\n",
    "1. Initializing an Empty Sample and Adding Data\n",
    "2. Accessing and Modifying Sample Data\n",
    "3. Set and Get default values\n",
    "4. Saving and Loading Samples\n",
    "\n",
    "This notebook provides detailed examples of using the Sample class to manage and manipulate sample data structures.\n",
    "\n",
    "**Each section is documented and explained.**"
   ]
  },
  {
   "cell_type": "code",
   "execution_count": 1,
   "id": "b6488a7b",
   "metadata": {},
   "outputs": [],
   "source": [
    "# Import required libraries\n",
    "from pathlib import Path\n",
    "\n",
    "import numpy as np"
   ]
  },
  {
   "cell_type": "code",
   "execution_count": 2,
   "id": "38bde7cb",
   "metadata": {},
   "outputs": [
    {
     "name": "stderr",
     "output_type": "stream",
     "text": [
      "Kokkos::OpenMP::initialize WARNING: OMP_PROC_BIND environment variable not set\n",
      "  In general, for best performance with OpenMP 4.0 or better set OMP_PROC_BIND=spread and OMP_PLACES=threads\n",
      "  For best performance with OpenMP 3.1 set OMP_PROC_BIND=true\n",
      "  For unit testing set OMP_PROC_BIND=false\n",
      "\n"
     ]
    }
   ],
   "source": [
    "# Import necessary libraries and functions\n",
    "import CGNS.PAT.cgnskeywords as CGK\n",
    "\n",
    "from Muscat.Bridges.CGNSBridge import MeshToCGNS\n",
    "from Muscat.MeshTools import MeshCreationTools as MCT\n",
    "\n",
    "from plaid import Sample\n",
    "from plaid.utils import cgns_helper as CGH"
   ]
  },
  {
   "cell_type": "code",
   "execution_count": 3,
   "id": "a75490f0",
   "metadata": {},
   "outputs": [],
   "source": [
    "# Print Sample util\n",
    "def show_sample(sample: Sample):\n",
    "    print(f\"sample = {sample}\")\n",
    "    sample.show_tree()\n",
    "    print(f\"{sample.get_scalar_names() = }\")\n",
    "    print(f\"{sample.get_field_names() = }\")"
   ]
  },
  {
   "cell_type": "markdown",
   "id": "09872f03",
   "metadata": {},
   "source": [
    "## Section 1: Initializing an Empty Sample and Adding Data\n",
    "\n",
    "This section demonstrates how to initialize an empty Sample and add scalars, time series data, and meshes / CGNS trees."
   ]
  },
  {
   "cell_type": "markdown",
   "id": "57bad9cc",
   "metadata": {},
   "source": [
    "### Create and display CGNS tree from an unstructured mesh"
   ]
  },
  {
   "cell_type": "code",
   "execution_count": 4,
   "id": "c3e1c115",
   "metadata": {},
   "outputs": [],
   "source": [
    "# Input data\n",
    "points = np.array(\n",
    "    [\n",
    "        [0.0, 0.0],\n",
    "        [1.0, 0.0],\n",
    "        [1.0, 1.0],\n",
    "        [0.0, 1.0],\n",
    "        [0.5, 1.5],\n",
    "    ]\n",
    ")\n",
    "\n",
    "triangles = np.array(\n",
    "    [\n",
    "        [0, 1, 2],\n",
    "        [0, 2, 3],\n",
    "        [2, 4, 3],\n",
    "    ]\n",
    ")\n",
    "\n",
    "Mesh = MCT.CreateMeshOfTriangles(points, triangles)\n",
    "Mesh.nodeFields[\"test_node_field_1\"] = np.random.randn(5)\n",
    "Mesh.elemFields[\"test_elem_field_1\"] = np.random.randn(3)\n",
    "tree = MeshToCGNS(Mesh)"
   ]
  },
  {
   "cell_type": "code",
   "execution_count": 5,
   "id": "acd7550d",
   "metadata": {},
   "outputs": [
    {
     "name": "stdout",
     "output_type": "stream",
     "text": [
      "#---# Show CGNS Tree\n",
      " CGNSLibraryVersion : (1,) [4.] float32 CGNSLibraryVersion_t\n",
      " Base_2_2 : (2,) [2 2] int32 CGNSBase_t\n",
      "|_  2D : None Family_t\n",
      "|_  Zone : (1, 3) [[5 3 0]] int64 Zone_t\n",
      "   |_  ZoneType : (12,) Unstructured |S1 ZoneType_t\n",
      "   |_  GridCoordinates : None GridCoordinates_t\n",
      "      |_  CoordinateX : (5,) [0.  1.  1.  0.  0.5] float64 DataArray_t\n",
      "      |_  CoordinateY : (5,) [0.  0.  1.  1.  1.5] float64 DataArray_t\n",
      "   |_  Elements_TRI_3 : (2,) [5 0] int32 Elements_t\n",
      "      |_  ElementRange : (2,) [1 3] int64 IndexRange_t\n",
      "      |_  ElementConnectivity : (9,) [1 ... 4] int64 DataArray_t\n",
      "   |_  PointData : None FlowSolution_t\n",
      "      |_  GridLocation : (6,) Vertex |S1 GridLocation_t\n",
      "      |_  OriginalIds : (5,) [1 2 3 4 5] int64 DataArray_t\n",
      "      |_  test_node_field_1 : (5,) [-0.43987395  0.35726481 -0.60803963  0.25869825 -0.22470234] float64 DataArray_t\n",
      "   |_  CellData : None FlowSolution_t\n",
      "      |_  GridLocation : (10,) CellCenter |S1 GridLocation_t\n",
      "      |_  OriginalIds : (3,) [1 2 3] int64 DataArray_t\n",
      "      |_  test_elem_field_1 : (3,) [ 0.32621741 -1.61103265 -0.2735113 ] float64 DataArray_t\n",
      "   |_  SurfaceData : None FlowSolution_t\n",
      "      |_  GridLocation : (10,) FaceCenter |S1 GridLocation_t\n",
      "      |_  OriginalIds : (0,) [] int64 DataArray_t\n",
      "   |_  FamilyName : (2,) 2D |S1 FamilyName_t\n",
      "\n",
      "#---# Summarize CGNS Tree\n",
      "Number of Bases: 1\n",
      "Number of Zones: 1\n",
      "Number of Nodes: 5\n",
      "Number of Elements: 3\n",
      "Number of Fields: 8\n",
      "\n",
      "Fields :\n",
      "  Base_2_2/Zone/PointData/GridLocation\n",
      "  Base_2_2/Zone/PointData/OriginalIds\n",
      "  Base_2_2/Zone/PointData/test_node_field_1\n",
      "  Base_2_2/Zone/CellData/GridLocation\n",
      "  Base_2_2/Zone/CellData/OriginalIds\n",
      "  Base_2_2/Zone/CellData/test_elem_field_1\n",
      "  Base_2_2/Zone/SurfaceData/GridLocation\n",
      "  Base_2_2/Zone/SurfaceData/OriginalIds\n",
      "\n",
      "#---# Summarize CGNS Tree without additional Field Information\n",
      "Number of Bases: 1\n",
      "Number of Zones: 1\n",
      "Number of Nodes: 5\n",
      "Number of Elements: 3\n",
      "Number of Fields: 8\n",
      "\n"
     ]
    }
   ],
   "source": [
    "print(\"#---# Show CGNS Tree\")\n",
    "CGH.show_cgns_tree(tree)\n",
    "\n",
    "print(\"\\n#---# Summarize CGNS Tree\")\n",
    "CGH.summarize_cgns_tree(tree)\n",
    "\n",
    "print(\"\\n#---# Summarize CGNS Tree without additional Field Information\")\n",
    "CGH.summarize_cgns_tree(tree, verbose=False)"
   ]
  },
  {
   "cell_type": "markdown",
   "id": "e6d05b45",
   "metadata": {},
   "source": [
    "### Initialize a new empty Sample and print it"
   ]
  },
  {
   "cell_type": "code",
   "execution_count": 6,
   "id": "d13fe581",
   "metadata": {},
   "outputs": [
    {
     "name": "stdout",
     "output_type": "stream",
     "text": [
      "#---# Empty Sample\n",
      "Sample(0 scalars, 0 timestamps, 0 fields, no tree)\n",
      "\n",
      "sample = Sample(0 scalars, 0 timestamps, 0 fields, no tree)\n",
      "sample.get_scalar_names() = []\n",
      "sample.get_field_names() = []\n"
     ]
    }
   ],
   "source": [
    "# Initialize an empty Sample\n",
    "print(\"#---# Empty Sample\")\n",
    "sample = Sample()\n",
    "\n",
    "print(sample, end=\"\\n\\n\")\n",
    "show_sample(sample)"
   ]
  },
  {
   "cell_type": "markdown",
   "id": "eac69660",
   "metadata": {},
   "source": [
    "### Add a scalars to a Sample"
   ]
  },
  {
   "cell_type": "code",
   "execution_count": 7,
   "id": "b7bd8a6c",
   "metadata": {},
   "outputs": [
    {
     "name": "stdout",
     "output_type": "stream",
     "text": [
      "sample = Sample(1 scalar, 1 timestamp, 0 fields)\n",
      " CGNSLibraryVersion : (1,) [4.] float32 CGNSLibraryVersion_t\n",
      " Global : (2,) [1 1] int32 CGNSBase_t\n",
      "|_  Time : (1,) [1] int32 BaseIterativeData_t\n",
      "   |_  IterationValues : (1,) [1] int32 DataArray_t\n",
      "   |_  TimeValues : (1,) [0.] float64 DataArray_t\n",
      "|_  rotation : (1,) [0.22755754] float64 DataArray_t\n",
      "sample.get_scalar_names() = ['rotation']\n",
      "sample.get_field_names() = []\n"
     ]
    }
   ],
   "source": [
    "# Add a rotation scalar to this Sample\n",
    "sample.add_scalar(\"rotation\", np.random.randn())\n",
    "\n",
    "show_sample(sample)"
   ]
  },
  {
   "cell_type": "code",
   "execution_count": 8,
   "id": "9896adca",
   "metadata": {},
   "outputs": [
    {
     "name": "stdout",
     "output_type": "stream",
     "text": [
      "sample = Sample(3 scalars, 1 timestamp, 0 fields)\n",
      " CGNSLibraryVersion : (1,) [4.] float32 CGNSLibraryVersion_t\n",
      " Global : (2,) [1 1] int32 CGNSBase_t\n",
      "|_  Time : (1,) [1] int32 BaseIterativeData_t\n",
      "   |_  IterationValues : (1,) [1] int32 DataArray_t\n",
      "   |_  TimeValues : (1,) [0.] float64 DataArray_t\n",
      "|_  rotation : (1,) [0.22755754] float64 DataArray_t\n",
      "|_  speed : (1,) [0.24228744] float64 DataArray_t\n",
      "|_  other : (1,) [-0.49954703] float64 DataArray_t\n",
      "sample.get_scalar_names() = ['rotation', 'speed', 'other']\n",
      "sample.get_field_names() = []\n"
     ]
    }
   ],
   "source": [
    "# Add a more scalars to this Sample\n",
    "sample.add_scalar(\"speed\", np.random.randn())\n",
    "sample.add_scalar(\"other\", np.random.randn())\n",
    "\n",
    "show_sample(sample)"
   ]
  },
  {
   "cell_type": "markdown",
   "id": "9d993a6c",
   "metadata": {},
   "source": [
    "### Add a CGNS Tree to a Sample and display it"
   ]
  },
  {
   "cell_type": "code",
   "execution_count": 9,
   "id": "064d4880",
   "metadata": {},
   "outputs": [
    {
     "name": "stdout",
     "output_type": "stream",
     "text": [
      " CGNSLibraryVersion : (1,) [4.] float32 CGNSLibraryVersion_t\n",
      " Global : (2,) [1 1] int32 CGNSBase_t\n",
      "|_  Time : (1,) [1] int32 BaseIterativeData_t\n",
      "   |_  IterationValues : (1,) [1] int32 DataArray_t\n",
      "   |_  TimeValues : (1,) [0.] float64 DataArray_t\n",
      "|_  rotation : (1,) [0.22755754] float64 DataArray_t\n",
      "|_  speed : (1,) [0.24228744] float64 DataArray_t\n",
      "|_  other : (1,) [-0.49954703] float64 DataArray_t\n",
      " Base_2_2 : (2,) [2 2] int32 CGNSBase_t\n",
      "|_  2D : None Family_t\n",
      "|_  Zone : (1, 3) [[5 3 0]] int64 Zone_t\n",
      "   |_  ZoneType : (12,) Unstructured |S1 ZoneType_t\n",
      "   |_  GridCoordinates : None GridCoordinates_t\n",
      "      |_  CoordinateX : (5,) [0.  1.  1.  0.  0.5] float64 DataArray_t\n",
      "      |_  CoordinateY : (5,) [0.  0.  1.  1.  1.5] float64 DataArray_t\n",
      "   |_  Elements_TRI_3 : (2,) [5 0] int32 Elements_t\n",
      "      |_  ElementRange : (2,) [1 3] int64 IndexRange_t\n",
      "      |_  ElementConnectivity : (9,) [1 ... 4] int64 DataArray_t\n",
      "   |_  PointData : None FlowSolution_t\n",
      "      |_  GridLocation : (6,) Vertex |S1 GridLocation_t\n",
      "      |_  OriginalIds : (5,) [1 2 3 4 5] int64 DataArray_t\n",
      "      |_  test_node_field_1 : (5,) [-0.43987395  0.35726481 -0.60803963  0.25869825 -0.22470234] float64 DataArray_t\n",
      "   |_  CellData : None FlowSolution_t\n",
      "      |_  GridLocation : (10,) CellCenter |S1 GridLocation_t\n",
      "      |_  OriginalIds : (3,) [1 2 3] int64 DataArray_t\n",
      "      |_  test_elem_field_1 : (3,) [ 0.32621741 -1.61103265 -0.2735113 ] float64 DataArray_t\n",
      "   |_  SurfaceData : None FlowSolution_t\n",
      "      |_  GridLocation : (10,) FaceCenter |S1 GridLocation_t\n",
      "      |_  OriginalIds : (0,) [] int64 DataArray_t\n",
      "   |_  FamilyName : (2,) 2D |S1 FamilyName_t\n",
      "|_  Time : (1,) [1] int32 BaseIterativeData_t\n",
      "   |_  IterationValues : (1,) [1] int32 DataArray_t\n",
      "   |_  TimeValues : (1,) [0.] float64 DataArray_t\n"
     ]
    }
   ],
   "source": [
    "# Add the previously created CGNS tree to the sample\n",
    "sample.features.add_tree(tree)\n",
    "\n",
    "# Display the Sample CGNS tree\n",
    "sample.show_tree()"
   ]
  },
  {
   "cell_type": "markdown",
   "id": "2da7d00a",
   "metadata": {},
   "source": [
    "### Set all meshes with their corresponding time step"
   ]
  },
  {
   "cell_type": "code",
   "execution_count": 10,
   "id": "28be6ecd",
   "metadata": {},
   "outputs": [
    {
     "name": "stdout",
     "output_type": "stream",
     "text": [
      "new_sample_mult_mesh.features.get_all_mesh_times() = [0.0, 0.5, 1.0]\n"
     ]
    }
   ],
   "source": [
    "# Init an empty Sample\n",
    "new_sample_mult_mesh = Sample()\n",
    "\n",
    "# All meshes with their corresponding time step\n",
    "meshes_dict = {0.0: tree, 0.5: tree, 1.0: tree}\n",
    "\n",
    "# Set meshes in the Sample\n",
    "new_sample_mult_mesh.features.set_meshes(meshes_dict)\n",
    "\n",
    "print(f\"{new_sample_mult_mesh.features.get_all_mesh_times() = }\")"
   ]
  },
  {
   "cell_type": "markdown",
   "id": "2b5979d8",
   "metadata": {},
   "source": [
    "### Link tree from another sample"
   ]
  },
  {
   "cell_type": "code",
   "execution_count": 11,
   "id": "7871b36b",
   "metadata": {},
   "outputs": [
    {
     "name": "stdout",
     "output_type": "stream",
     "text": [
      "new_sample_mult_mesh.features.get_all_mesh_times() = [0.0, 0.5, 1.0, 1.5]\n"
     ]
    }
   ],
   "source": [
    "path_linked_sample = Path.cwd() / \"dataset/samples/sample_000000000/meshes/mesh_000000000.cgns\"\n",
    "new_sample_mult_mesh.link_tree(\n",
    "    path_linked_sample, linked_sample=sample, linked_time=0.0, time=1.5\n",
    ")\n",
    "print(f\"{new_sample_mult_mesh.features.get_all_mesh_times() = }\")"
   ]
  },
  {
   "cell_type": "markdown",
   "id": "520ca92c",
   "metadata": {},
   "source": [
    "## Section 2: Accessing and Modifying Sample Data\n",
    "\n",
    "This section demonstrates how to access and modify base, zone, node, scalar, field and time series data within the Sample."
   ]
  },
  {
   "cell_type": "markdown",
   "id": "3e27922a",
   "metadata": {},
   "source": [
    "### Initialize CGNS tree base"
   ]
  },
  {
   "cell_type": "code",
   "execution_count": 12,
   "id": "c14c0253",
   "metadata": {},
   "outputs": [
    {
     "name": "stdout",
     "output_type": "stream",
     "text": [
      "#---# Empty Sample\n",
      "Sample(0 scalars, 0 timestamps, 0 fields, no tree)\n",
      "\n",
      "sample = Sample(0 scalars, 1 timestamp, 0 fields)\n",
      " CGNSLibraryVersion : (1,) [4.] float32 CGNSLibraryVersion_t\n",
      " SurfaceMesh : (2,) [2 3] int32 CGNSBase_t\n",
      "|_  Time : (1,) [1] int32 BaseIterativeData_t\n",
      "   |_  IterationValues : (1,) [1] int32 DataArray_t\n",
      "   |_  TimeValues : (1,) [0.] float64 DataArray_t\n",
      "sample.get_scalar_names() = []\n",
      "sample.get_field_names() = []\n"
     ]
    }
   ],
   "source": [
    "# Initialize an new empty Sample\n",
    "print(\"#---# Empty Sample\")\n",
    "sample = Sample()\n",
    "print(sample, end=\"\\n\\n\")\n",
    "\n",
    "# Init CGNS tree base at time 0.\n",
    "sample.init_base(2, 3, \"SurfaceMesh\", time=0.0)\n",
    "\n",
    "show_sample(sample)"
   ]
  },
  {
   "cell_type": "markdown",
   "id": "9e4c4c80",
   "metadata": {},
   "source": [
    "### Initialize CGNS tree zone"
   ]
  },
  {
   "cell_type": "code",
   "execution_count": 13,
   "id": "18a19b26",
   "metadata": {},
   "outputs": [
    {
     "name": "stdout",
     "output_type": "stream",
     "text": [
      "sample = Sample(0 scalars, 1 timestamp, 0 fields)\n",
      " CGNSLibraryVersion : (1,) [4.] float32 CGNSLibraryVersion_t\n",
      " SurfaceMesh : (2,) [2 3] int32 CGNSBase_t\n",
      "|_  Time : (1,) [1] int32 BaseIterativeData_t\n",
      "   |_  IterationValues : (1,) [1] int32 DataArray_t\n",
      "   |_  TimeValues : (1,) [0.] float64 DataArray_t\n",
      "|_  TestZoneName : (3,) [5 3 0] int64 Zone_t\n",
      "   |_  ZoneType : (12,) Unstructured |S1 ZoneType_t\n",
      "sample.get_scalar_names() = []\n",
      "sample.get_field_names() = []\n"
     ]
    }
   ],
   "source": [
    "# Init CGNS tree zone to a base at time 0.\n",
    "shape = np.array((len(points), len(triangles), 0))\n",
    "sample.init_zone(shape, zone_name=\"TestZoneName\", base_name=\"SurfaceMesh\", time=0.0)\n",
    "\n",
    "show_sample(sample)"
   ]
  },
  {
   "cell_type": "markdown",
   "id": "15a207fb",
   "metadata": {},
   "source": [
    "### Set the coordinates of nodes for a specified base and zone"
   ]
  },
  {
   "cell_type": "code",
   "execution_count": 14,
   "id": "e2aba1fb",
   "metadata": {},
   "outputs": [
    {
     "name": "stdout",
     "output_type": "stream",
     "text": [
      "sample = Sample(0 scalars, 1 timestamp, 0 fields)\n",
      " CGNSLibraryVersion : (1,) [4.] float32 CGNSLibraryVersion_t\n",
      " SurfaceMesh : (2,) [2 3] int32 CGNSBase_t\n",
      "|_  Time : (1,) [1] int32 BaseIterativeData_t\n",
      "   |_  IterationValues : (1,) [1] int32 DataArray_t\n",
      "   |_  TimeValues : (1,) [0.] float64 DataArray_t\n",
      "|_  TestZoneName : (3,) [5 3 0] int64 Zone_t\n",
      "   |_  ZoneType : (12,) Unstructured |S1 ZoneType_t\n",
      "   |_  GridCoordinates : None GridCoordinates_t\n",
      "      |_  CoordinateX : (5,) [0.  1.  1.  0.  0.5] float64 DataArray_t\n",
      "      |_  CoordinateY : (5,) [0.  0.  1.  1.  1.5] float64 DataArray_t\n",
      "sample.get_scalar_names() = []\n",
      "sample.get_field_names() = []\n"
     ]
    }
   ],
   "source": [
    "points = np.array(\n",
    "    [\n",
    "        [0.0, 0.0],\n",
    "        [1.0, 0.0],\n",
    "        [1.0, 1.0],\n",
    "        [0.0, 1.0],\n",
    "        [0.5, 1.5],\n",
    "    ]\n",
    ")\n",
    "\n",
    "# Set the coordinates of nodes for a specified base and zone at a given time.\n",
    "# set_points == set_nodes == set_vertices\n",
    "sample.set_nodes(points, base_name=\"SurfaceMesh\", zone_name=\"TestZoneName\", time=0.0)\n",
    "\n",
    "show_sample(sample)"
   ]
  },
  {
   "cell_type": "markdown",
   "id": "df3b5768",
   "metadata": {},
   "source": [
    "### Add a field to a specified zone in the grid"
   ]
  },
  {
   "cell_type": "code",
   "execution_count": 15,
   "id": "a01bac4c",
   "metadata": {},
   "outputs": [
    {
     "name": "stdout",
     "output_type": "stream",
     "text": [
      "sample = Sample(0 scalars, 1 timestamp, 1 field)\n",
      " CGNSLibraryVersion : (1,) [4.] float32 CGNSLibraryVersion_t\n",
      " SurfaceMesh : (2,) [2 3] int32 CGNSBase_t\n",
      "|_  Time : (1,) [1] int32 BaseIterativeData_t\n",
      "   |_  IterationValues : (1,) [1] int32 DataArray_t\n",
      "   |_  TimeValues : (1,) [0.] float64 DataArray_t\n",
      "|_  TestZoneName : (3,) [5 3 0] int64 Zone_t\n",
      "   |_  ZoneType : (12,) Unstructured |S1 ZoneType_t\n",
      "   |_  GridCoordinates : None GridCoordinates_t\n",
      "      |_  CoordinateX : (5,) [0.  1.  1.  0.  0.5] float64 DataArray_t\n",
      "      |_  CoordinateY : (5,) [0.  0.  1.  1.  1.5] float64 DataArray_t\n",
      "   |_  VertexFields : None FlowSolution_t\n",
      "      |_  GridLocation : (6,) Vertex |S1 GridLocation_t\n",
      "      |_  Pressure : (5,) [-0.86064814  0.44936936  0.08085363  0.16084348  0.78309393] float64 DataArray_t\n",
      "sample.get_scalar_names() = []\n",
      "sample.get_field_names() = ['Pressure']\n"
     ]
    }
   ],
   "source": [
    "# Add a field to a specified zone\n",
    "sample.add_field(\n",
    "    \"Pressure\",\n",
    "    np.random.randn(len(points)),\n",
    "    base_name=\"SurfaceMesh\",\n",
    "    zone_name=\"TestZoneName\",\n",
    "    time=0.0,\n",
    ")\n",
    "\n",
    "show_sample(sample)"
   ]
  },
  {
   "cell_type": "code",
   "execution_count": 16,
   "id": "4beb2dd5",
   "metadata": {},
   "outputs": [
    {
     "name": "stdout",
     "output_type": "stream",
     "text": [
      "sample = Sample(0 scalars, 1 timestamp, 2 fields)\n",
      " CGNSLibraryVersion : (1,) [4.] float32 CGNSLibraryVersion_t\n",
      " SurfaceMesh : (2,) [2 3] int32 CGNSBase_t\n",
      "|_  Time : (1,) [1] int32 BaseIterativeData_t\n",
      "   |_  IterationValues : (1,) [1] int32 DataArray_t\n",
      "   |_  TimeValues : (1,) [0.] float64 DataArray_t\n",
      "|_  TestZoneName : (3,) [5 3 0] int64 Zone_t\n",
      "   |_  ZoneType : (12,) Unstructured |S1 ZoneType_t\n",
      "   |_  GridCoordinates : None GridCoordinates_t\n",
      "      |_  CoordinateX : (5,) [0.  1.  1.  0.  0.5] float64 DataArray_t\n",
      "      |_  CoordinateY : (5,) [0.  0.  1.  1.  1.5] float64 DataArray_t\n",
      "   |_  VertexFields : None FlowSolution_t\n",
      "      |_  GridLocation : (6,) Vertex |S1 GridLocation_t\n",
      "      |_  Pressure : (5,) [-0.86064814  0.44936936  0.08085363  0.16084348  0.78309393] float64 DataArray_t\n",
      "      |_  Temperature : (5,) [ 0.64670724  0.8892291   1.25256206 -1.45263793  0.65221439] float64 DataArray_t\n",
      "sample.get_scalar_names() = []\n",
      "sample.get_field_names() = ['Pressure', 'Temperature']\n"
     ]
    }
   ],
   "source": [
    "# Add another field\n",
    "sample.add_field(\n",
    "    \"Temperature\",\n",
    "    np.random.randn(len(points)),\n",
    "    base_name=\"SurfaceMesh\",\n",
    "    zone_name=\"TestZoneName\",\n",
    "    time=0.0,\n",
    ")\n",
    "\n",
    "show_sample(sample)"
   ]
  },
  {
   "cell_type": "markdown",
   "id": "817a42f6",
   "metadata": {},
   "source": [
    "### Access scalars data in Sample"
   ]
  },
  {
   "cell_type": "code",
   "execution_count": 17,
   "id": "6bac2035",
   "metadata": {},
   "outputs": [
    {
     "name": "stdout",
     "output_type": "stream",
     "text": [
      "sample.get_scalar_names() = []\n",
      "sample.get_scalar('omega') = None\n",
      "sample.get_scalar('rotation') = None\n"
     ]
    }
   ],
   "source": [
    "# It will look for a default base if no base and zone are given\n",
    "print(f\"{sample.get_scalar_names() = }\")\n",
    "print(f\"{sample.get_scalar('omega') = }\")\n",
    "print(f\"{sample.get_scalar('rotation') = }\")"
   ]
  },
  {
   "cell_type": "markdown",
   "id": "18f0501c",
   "metadata": {},
   "source": [
    "### Access fields data in Sample"
   ]
  },
  {
   "cell_type": "code",
   "execution_count": 18,
   "id": "6e07c9ef",
   "metadata": {},
   "outputs": [
    {
     "name": "stdout",
     "output_type": "stream",
     "text": [
      "sample.get_field_names() = ['Pressure', 'Temperature']\n",
      "sample.get_field('T') = None\n",
      "sample.get_field('Temperature') = array([ 0.64670724,  0.8892291 ,  1.25256206, -1.45263793,  0.65221439])\n"
     ]
    }
   ],
   "source": [
    "# It will look for a default base if no base and zone are given\n",
    "print(f\"{sample.get_field_names() = }\")\n",
    "print(f\"{sample.get_field('T') = }\")\n",
    "print(f\"{sample.get_field('Temperature') = }\")"
   ]
  },
  {
   "cell_type": "markdown",
   "id": "e3f1e8ad",
   "metadata": {},
   "source": [
    "### Access to points coordinates"
   ]
  },
  {
   "cell_type": "code",
   "execution_count": 19,
   "id": "74fe8269",
   "metadata": {},
   "outputs": [
    {
     "name": "stdout",
     "output_type": "stream",
     "text": [
      "sample.get_nodes() = array([[0. , 0. ],\n",
      "       [1. , 0. ],\n",
      "       [1. , 1. ],\n",
      "       [0. , 1. ],\n",
      "       [0.5, 1.5]])\n",
      "sample.features.get_points() = array([[0. , 0. ],\n",
      "       [1. , 0. ],\n",
      "       [1. , 1. ],\n",
      "       [0. , 1. ],\n",
      "       [0.5, 1.5]])\n",
      "sample.features.get_vertices() = array([[0. , 0. ],\n",
      "       [1. , 0. ],\n",
      "       [1. , 1. ],\n",
      "       [0. , 1. ],\n",
      "       [0.5, 1.5]])\n"
     ]
    }
   ],
   "source": [
    "# It will look for a default base if no base and zone are given\n",
    "print(f\"{sample.get_nodes() = }\")\n",
    "print(f\"{sample.features.get_points() = }\")  # same as get_nodes\n",
    "print(f\"{sample.features.get_vertices() = }\")  # same as get_nodes"
   ]
  },
  {
   "cell_type": "markdown",
   "id": "49887c01",
   "metadata": {},
   "source": [
    "### Retrieve element connectivity data"
   ]
  },
  {
   "cell_type": "code",
   "execution_count": 20,
   "id": "17dd97ca",
   "metadata": {},
   "outputs": [
    {
     "name": "stdout",
     "output_type": "stream",
     "text": [
      "element connectivity = \n",
      " {'TRI_3': array([[0, 1, 2],\n",
      "       [0, 2, 3],\n",
      "       [2, 4, 3]])}\n"
     ]
    }
   ],
   "source": [
    "# Create an empty Sample\n",
    "tmp_sample = Sample()\n",
    "\n",
    "# Add the previously created CGNS tree in the Sample\n",
    "tmp_sample.features.add_tree(tree)\n",
    "\n",
    "print(\"element connectivity = \\n\", f\"{tmp_sample.features.get_elements()}\")"
   ]
  },
  {
   "cell_type": "markdown",
   "id": "1540736e",
   "metadata": {},
   "source": [
    "### Access the available base of the CGNS tree"
   ]
  },
  {
   "cell_type": "code",
   "execution_count": 21,
   "id": "48b599dd",
   "metadata": {},
   "outputs": [
    {
     "name": "stdout",
     "output_type": "stream",
     "text": [
      "bases_names=['SurfaceMesh']\n",
      "full_bases_names=['/SurfaceMesh']\n"
     ]
    }
   ],
   "source": [
    "# Get base names\n",
    "bases_names = sample.features.get_base_names()\n",
    "# Get full base path\n",
    "full_bases_names = sample.features.get_base_names(full_path=True)\n",
    "\n",
    "print(f\"{bases_names=}\")\n",
    "print(f\"{full_bases_names=}\")"
   ]
  },
  {
   "cell_type": "code",
   "execution_count": 22,
   "id": "6b64f37f",
   "metadata": {},
   "outputs": [
    {
     "name": "stdout",
     "output_type": "stream",
     "text": [
      "base_node_content = ['SurfaceMesh', array([2, 3], dtype=int32), [['Time', array([1], dtype=int32), [['IterationValues', array([1], dtype=int32), [], 'DataArray_t'], ['TimeValues', array([0.]), [], 'DataArray_t']], 'BaseIterativeData_t'], ['TestZoneName', array([5, 3, 0]), [['ZoneType', array([b'U', b'n', b's', b't', b'r', b'u', b'c', b't', b'u', b'r', b'e',\n",
      "       b'd'], dtype='|S1'), [], 'ZoneType_t'], ['GridCoordinates', None, [['CoordinateX', array([0. , 1. , 1. , 0. , 0.5]), [], 'DataArray_t'], ['CoordinateY', array([0. , 0. , 1. , 1. , 1.5]), [], 'DataArray_t']], 'GridCoordinates_t'], ['VertexFields', None, [['GridLocation', array([b'V', b'e', b'r', b't', b'e', b'x'], dtype='|S1'), [], 'GridLocation_t'], ['Pressure', array([-0.86064814,  0.44936936,  0.08085363,  0.16084348,  0.78309393]), [], 'DataArray_t'], ['Temperature', array([ 0.64670724,  0.8892291 ,  1.25256206, -1.45263793,  0.65221439]), [], 'DataArray_t']], 'FlowSolution_t']], 'Zone_t']], 'CGNSBase_t']\n"
     ]
    }
   ],
   "source": [
    "# Get the first base name\n",
    "base_name = sample.features.get_base_names()[0]\n",
    "# Get base node\n",
    "base_node_content = sample.features.get_base(base_name)\n",
    "\n",
    "print(f\"{base_node_content = }\")"
   ]
  },
  {
   "cell_type": "markdown",
   "id": "ec5659e6",
   "metadata": {},
   "source": [
    "### Check if a base exists in a Sample"
   ]
  },
  {
   "cell_type": "code",
   "execution_count": 23,
   "id": "d332ba82",
   "metadata": {},
   "outputs": [
    {
     "name": "stdout",
     "output_type": "stream",
     "text": [
      "sample.features.has_base(base_name) = True\n",
      "sample.features.has_base('unknown_base_name') = False\n"
     ]
    }
   ],
   "source": [
    "# Get the first base name\n",
    "base_name = sample.features.get_base_names()[0]\n",
    "\n",
    "print(f\"{sample.features.has_base(base_name) = }\")\n",
    "print(f\"{sample.features.has_base('unknown_base_name') = }\")"
   ]
  },
  {
   "cell_type": "markdown",
   "id": "5c6bb4af",
   "metadata": {},
   "source": [
    "### Access the available zone from a CGNS tree base"
   ]
  },
  {
   "cell_type": "code",
   "execution_count": 24,
   "id": "5863020a",
   "metadata": {},
   "outputs": [
    {
     "name": "stdout",
     "output_type": "stream",
     "text": [
      " - Base : SurfaceMesh\n",
      "    - Zone(s): ['TestZoneName']\n",
      "    - Zone(s) full path: ['SurfaceMesh/TestZoneName']\n"
     ]
    }
   ],
   "source": [
    "# Get the first base name\n",
    "base_name = sample.features.get_base_names()[0]\n",
    "\n",
    "# Get zones associated with the first base\n",
    "zones_names = sample.features.get_zone_names(base_name)\n",
    "# Get full path of zones associated with the first base\n",
    "full_zones_names = sample.features.get_zone_names(base_name, full_path=True)\n",
    "\n",
    "print(f\" - Base : {base_name}\")\n",
    "print(f\"    - Zone(s): {zones_names}\")\n",
    "print(f\"    - Zone(s) full path: {full_zones_names}\")"
   ]
  },
  {
   "cell_type": "code",
   "execution_count": 25,
   "id": "3b6dd040",
   "metadata": {},
   "outputs": [
    {
     "name": "stdout",
     "output_type": "stream",
     "text": [
      "zone_node_content = ['TestZoneName', array([5, 3, 0]), [['ZoneType', array([b'U', b'n', b's', b't', b'r', b'u', b'c', b't', b'u', b'r', b'e',\n",
      "       b'd'], dtype='|S1'), [], 'ZoneType_t'], ['GridCoordinates', None, [['CoordinateX', array([0. , 1. , 1. , 0. , 0.5]), [], 'DataArray_t'], ['CoordinateY', array([0. , 0. , 1. , 1. , 1.5]), [], 'DataArray_t']], 'GridCoordinates_t'], ['VertexFields', None, [['GridLocation', array([b'V', b'e', b'r', b't', b'e', b'x'], dtype='|S1'), [], 'GridLocation_t'], ['Pressure', array([-0.86064814,  0.44936936,  0.08085363,  0.16084348,  0.78309393]), [], 'DataArray_t'], ['Temperature', array([ 0.64670724,  0.8892291 ,  1.25256206, -1.45263793,  0.65221439]), [], 'DataArray_t']], 'FlowSolution_t']], 'Zone_t']\n"
     ]
    }
   ],
   "source": [
    "# Get the first zone name from a base name\n",
    "zone_name = zones_names[0]\n",
    "# Get base node\n",
    "zone_node_content = sample.features.get_zone(zone_name, base_name)\n",
    "\n",
    "print(f\"{zone_node_content = }\")"
   ]
  },
  {
   "cell_type": "markdown",
   "id": "da6f0f55",
   "metadata": {},
   "source": [
    "### Get the zone type"
   ]
  },
  {
   "cell_type": "code",
   "execution_count": 26,
   "id": "8585f338",
   "metadata": {},
   "outputs": [
    {
     "name": "stdout",
     "output_type": "stream",
     "text": [
      "zone type = Unstructured\n"
     ]
    }
   ],
   "source": [
    "# Get the first zone name from a base name\n",
    "zone_name = zones_names[0]\n",
    "z_type = sample.features.get_zone_type(zone_name, base_name)\n",
    "\n",
    "print(f\"zone type = {z_type}\")"
   ]
  },
  {
   "cell_type": "markdown",
   "id": "8ad3dbfe",
   "metadata": {},
   "source": [
    "### Check if a zone exists in a Sample"
   ]
  },
  {
   "cell_type": "code",
   "execution_count": 27,
   "id": "76f1128d",
   "metadata": {},
   "outputs": [
    {
     "name": "stdout",
     "output_type": "stream",
     "text": [
      "sample.features.has_zone(zone_name, base_name) = True\n",
      "sample.features.has_zone('unknown_zone_name', base_name) = False\n"
     ]
    }
   ],
   "source": [
    "# Get the first zone name from a base name\n",
    "zone_name = zones_names[0]\n",
    "\n",
    "print(f\"{sample.features.has_zone(zone_name, base_name) = }\")\n",
    "print(f\"{sample.features.has_zone('unknown_zone_name', base_name) = }\")"
   ]
  },
  {
   "cell_type": "markdown",
   "id": "443468a9",
   "metadata": {},
   "source": [
    "### Get mesh from sample"
   ]
  },
  {
   "cell_type": "code",
   "execution_count": 28,
   "id": "7edd98ca",
   "metadata": {},
   "outputs": [
    {
     "name": "stdout",
     "output_type": "stream",
     "text": [
      "['CGNSTree', None, [['CGNSLibraryVersion', array([4.], dtype=float32), [], 'CGNSLibraryVersion_t'], ['SurfaceMesh', array([2, 3], dtype=int32), [['Time', array([1], dtype=int32), [['IterationValues', array([1], dtype=int32), [], 'DataArray_t'], ['TimeValues', array([0.]), [], 'DataArray_t']], 'BaseIterativeData_t'], ['TestZoneName', array([5, 3, 0]), [['ZoneType', array([b'U', b'n', b's', b't', b'r', b'u', b'c', b't', b'u', b'r', b'e',\n",
      "       b'd'], dtype='|S1'), [], 'ZoneType_t'], ['GridCoordinates', None, [['CoordinateX', array([0. , 1. , 1. , 0. , 0.5]), [], 'DataArray_t'], ['CoordinateY', array([0. , 0. , 1. , 1. , 1.5]), [], 'DataArray_t']], 'GridCoordinates_t'], ['VertexFields', None, [['GridLocation', array([b'V', b'e', b'r', b't', b'e', b'x'], dtype='|S1'), [], 'GridLocation_t'], ['Pressure', array([-0.86064814,  0.44936936,  0.08085363,  0.16084348,  0.78309393]), [], 'DataArray_t'], ['Temperature', array([ 0.64670724,  0.8892291 ,  1.25256206, -1.45263793,  0.65221439]), [], 'DataArray_t']], 'FlowSolution_t']], 'Zone_t']], 'CGNSBase_t']], 'CGNSTree_t']\n"
     ]
    }
   ],
   "source": [
    "sample_mesh = sample.get_mesh()\n",
    "print(sample_mesh)"
   ]
  },
  {
   "cell_type": "markdown",
   "id": "b0304a4d",
   "metadata": {},
   "source": [
    "### Get all mesh time available in Sample"
   ]
  },
  {
   "cell_type": "code",
   "execution_count": 29,
   "id": "827eb48e",
   "metadata": {},
   "outputs": [
    {
     "name": "stdout",
     "output_type": "stream",
     "text": [
      "sample.features.get_all_mesh_times() = [0.0]\n",
      "sample.features.get_all_mesh_times() = [0.0, 1.0]\n"
     ]
    }
   ],
   "source": [
    "# Before adding new tree\n",
    "print(f\"{sample.features.get_all_mesh_times() = }\")\n",
    "\n",
    "# Add one CGNS tree at time 1.\n",
    "sample.features.add_tree(tree, 1.0)\n",
    "\n",
    "# After adding new tree\n",
    "print(f\"{sample.features.get_all_mesh_times() = }\")"
   ]
  },
  {
   "cell_type": "markdown",
   "id": "77de1ff1",
   "metadata": {},
   "source": [
    "### Creating a Sample Hierarchy with bases, zones, and associated data."
   ]
  },
  {
   "cell_type": "code",
   "execution_count": 30,
   "id": "22dd0e75",
   "metadata": {},
   "outputs": [
    {
     "name": "stdout",
     "output_type": "stream",
     "text": [
      "bases_names = ['SurfaceMesh']\n",
      "full_bases_names = ['/SurfaceMesh']\n",
      "\n",
      " - Base : SurfaceMesh\n",
      "    - TestZoneName -> type: Unstructured | full: SurfaceMesh/TestZoneName\n"
     ]
    }
   ],
   "source": [
    "bases_names = sample.features.get_base_names()\n",
    "full_bases_names = sample.features.get_base_names(full_path=True)\n",
    "print(f\"{bases_names = }\")\n",
    "print(f\"{full_bases_names = }\", end=\"\\n\\n\")\n",
    "\n",
    "for b_name in bases_names:\n",
    "    zones_names = sample.features.get_zone_names(b_name)\n",
    "    full_zones_names = sample.features.get_zone_names(b_name, full_path=True)\n",
    "    print(f\" - Base : {b_name}\")\n",
    "    for z_name, f_z_name in zip(zones_names, full_zones_names):\n",
    "        print(\n",
    "            f\"    - {z_name} -> type: {sample.features.get_zone_type(z_name, b_name)} | full: {f_z_name}\"\n",
    "        )"
   ]
  },
  {
   "cell_type": "markdown",
   "id": "17172d1e",
   "metadata": {},
   "source": [
    "## Section 3: Set and Get default values\n",
    "\n",
    "This section demonstrates how to use default CGNS values in a Sample."
   ]
  },
  {
   "cell_type": "markdown",
   "id": "570f3d67",
   "metadata": {},
   "source": [
    "### Set and use default time in a Sample"
   ]
  },
  {
   "cell_type": "code",
   "execution_count": 31,
   "id": "90cc645c",
   "metadata": {},
   "outputs": [
    {
     "name": "stdout",
     "output_type": "stream",
     "text": [
      "sample.features.get_all_mesh_times() = [0.0, 1.0]\n",
      "sample.features.get_time_assignment() = 0.0\n",
      "\n",
      "sample.features.get_time_assignment() = 1.0\n",
      "\n",
      " CGNSLibraryVersion : (1,) [4.] float32 CGNSLibraryVersion_t\n",
      " Base_2_2 : (2,) [2 2] int32 CGNSBase_t\n",
      "|_  2D : None Family_t\n",
      "|_  Zone : (1, 3) [[5 3 0]] int64 Zone_t\n",
      "   |_  ZoneType : (12,) Unstructured |S1 ZoneType_t\n",
      "   |_  GridCoordinates : None GridCoordinates_t\n",
      "      |_  CoordinateX : (5,) [0.  1.  1.  0.  0.5] float64 DataArray_t\n",
      "      |_  CoordinateY : (5,) [0.  0.  1.  1.  1.5] float64 DataArray_t\n",
      "   |_  Elements_TRI_3 : (2,) [5 0] int32 Elements_t\n",
      "      |_  ElementRange : (2,) [1 3] int64 IndexRange_t\n",
      "      |_  ElementConnectivity : (9,) [1 ... 4] int64 DataArray_t\n",
      "   |_  PointData : None FlowSolution_t\n",
      "      |_  GridLocation : (6,) Vertex |S1 GridLocation_t\n",
      "      |_  OriginalIds : (5,) [1 2 3 4 5] int64 DataArray_t\n",
      "      |_  test_node_field_1 : (5,) [-0.43987395  0.35726481 -0.60803963  0.25869825 -0.22470234] float64 DataArray_t\n",
      "   |_  CellData : None FlowSolution_t\n",
      "      |_  GridLocation : (10,) CellCenter |S1 GridLocation_t\n",
      "      |_  OriginalIds : (3,) [1 2 3] int64 DataArray_t\n",
      "      |_  test_elem_field_1 : (3,) [ 0.32621741 -1.61103265 -0.2735113 ] float64 DataArray_t\n",
      "   |_  SurfaceData : None FlowSolution_t\n",
      "      |_  GridLocation : (10,) FaceCenter |S1 GridLocation_t\n",
      "      |_  OriginalIds : (0,) [] int64 DataArray_t\n",
      "   |_  FamilyName : (2,) 2D |S1 FamilyName_t\n",
      "|_  Time : (1,) [1] int32 BaseIterativeData_t\n",
      "   |_  IterationValues : (1,) [1] int32 DataArray_t\n",
      "   |_  TimeValues : (1,) [0.] float64 DataArray_t\n"
     ]
    }
   ],
   "source": [
    "# Without a provided default time, it searches the first time available in all mesh times\n",
    "print(f\"{sample.features.get_all_mesh_times() = }\")\n",
    "print(f\"{sample.features.get_time_assignment() = }\", end=\"\\n\\n\")\n",
    "\n",
    "# Set default time\n",
    "sample.set_default_time(1.0)\n",
    "# Now that default time has been assigned, there's no need to specify it in function calls.\n",
    "print(f\"{sample.features.get_time_assignment() = }\", end=\"\\n\\n\")\n",
    "\n",
    "# Print the tree at time 1.0\n",
    "sample.show_tree()  # == sample.show_tree(1.0)"
   ]
  },
  {
   "cell_type": "code",
   "execution_count": 32,
   "id": "23983bf6",
   "metadata": {},
   "outputs": [
    {
     "name": "stdout",
     "output_type": "stream",
     "text": [
      " CGNSLibraryVersion : (1,) [4.] float32 CGNSLibraryVersion_t\n",
      " SurfaceMesh : (2,) [2 3] int32 CGNSBase_t\n",
      "|_  Time : (1,) [1] int32 BaseIterativeData_t\n",
      "   |_  IterationValues : (1,) [1] int32 DataArray_t\n",
      "   |_  TimeValues : (1,) [0.] float64 DataArray_t\n",
      "|_  TestZoneName : (3,) [5 3 0] int64 Zone_t\n",
      "   |_  ZoneType : (12,) Unstructured |S1 ZoneType_t\n",
      "   |_  GridCoordinates : None GridCoordinates_t\n",
      "      |_  CoordinateX : (5,) [0.  1.  1.  0.  0.5] float64 DataArray_t\n",
      "      |_  CoordinateY : (5,) [0.  0.  1.  1.  1.5] float64 DataArray_t\n",
      "   |_  VertexFields : None FlowSolution_t\n",
      "      |_  GridLocation : (6,) Vertex |S1 GridLocation_t\n",
      "      |_  Pressure : (5,) [-0.86064814  0.44936936  0.08085363  0.16084348  0.78309393] float64 DataArray_t\n",
      "      |_  Temperature : (5,) [ 0.64670724  0.8892291   1.25256206 -1.45263793  0.65221439] float64 DataArray_t\n"
     ]
    }
   ],
   "source": [
    "# If time is specified as an argument in a function, it takes precedence over the default time.\n",
    "sample.show_tree(0.0)  # Print the tree at time 0.0 even if default time is 1.0"
   ]
  },
  {
   "cell_type": "markdown",
   "id": "5f9d9416",
   "metadata": {},
   "source": [
    "### Set and use default base and time in a Sample"
   ]
  },
  {
   "cell_type": "code",
   "execution_count": 33,
   "id": "3d094c4b",
   "metadata": {},
   "outputs": [
    {
     "name": "stdout",
     "output_type": "stream",
     "text": [
      "sample.features.get_time_assignment() = 0.0\n",
      "\n",
      "sample.features.get_topological_dim('new_base', 0.0) = 1\n",
      "sample.features.get_physical_dim('new_base', 0.0) = 1\n"
     ]
    }
   ],
   "source": [
    "# Reset default time\n",
    "sample.features._default_active_time = None\n",
    "\n",
    "# Without a provided default time, it searches the first time available in all mesh times\n",
    "print(f\"{sample.features.get_time_assignment() = }\", end=\"\\n\\n\")\n",
    "\n",
    "# Create new bases\n",
    "sample.init_base(1, 1, \"new_base\", 0.0)\n",
    "print(f\"{sample.features.get_topological_dim('new_base', 0.0) = }\")\n",
    "print(f\"{sample.features.get_physical_dim('new_base', 0.0) = }\")"
   ]
  },
  {
   "cell_type": "code",
   "execution_count": 34,
   "id": "c9276852",
   "metadata": {},
   "outputs": [
    {
     "name": "stdout",
     "output_type": "stream",
     "text": [
      "sample.features.get_base_names() = ['SurfaceMesh', 'new_base']\n",
      "\n",
      "\"No default base provided among ['SurfaceMesh', 'new_base']\"\n"
     ]
    }
   ],
   "source": [
    "# Attempting to get a base when the default base is not set, and there are multiple bases available.\n",
    "print(f\"{sample.features.get_base_names() = }\", end=\"\\n\\n\")\n",
    "try:\n",
    "    sample.features.get_base_assignment()\n",
    "except KeyError as e:\n",
    "    print(str(e))"
   ]
  },
  {
   "cell_type": "code",
   "execution_count": 35,
   "id": "08634655",
   "metadata": {},
   "outputs": [
    {
     "name": "stdout",
     "output_type": "stream",
     "text": [
      "sample.features.get_time_assignment() = 0.0\n",
      "sample.features.get_base_assignment() = 'SurfaceMesh'\n",
      "\n",
      "sample.features.get_topological_dim() = 2\n",
      "sample.features.get_physical_dim() = 3\n"
     ]
    }
   ],
   "source": [
    "# Set default base and time\n",
    "sample.set_default_base(\"SurfaceMesh\", 0.0)\n",
    "\n",
    "# Now that default base and time have been assigned, it is no longer necessary to specify them in function calls.\n",
    "print(f\"{sample.features.get_time_assignment() = }\")\n",
    "print(f\"{sample.features.get_base_assignment() = }\", end=\"\\n\\n\")\n",
    "\n",
    "# Print the topological and physical dim for the default base == 'SurfaceMesh'\n",
    "print(f\"{sample.features.get_topological_dim() = }\")\n",
    "print(f\"{sample.features.get_physical_dim() = }\")"
   ]
  },
  {
   "cell_type": "code",
   "execution_count": 36,
   "id": "798751c3",
   "metadata": {},
   "outputs": [
    {
     "name": "stdout",
     "output_type": "stream",
     "text": [
      "sample.features.get_physical_dim('new_base') = 1\n"
     ]
    }
   ],
   "source": [
    "# If base is specified as an argument in a function, it takes precedence over the default base.\n",
    "print(\n",
    "    f\"{sample.features.get_physical_dim('new_base') = }\"\n",
    ")  # Print the 'new_base' physical dim instead of the default base physical dim"
   ]
  },
  {
   "cell_type": "markdown",
   "id": "049fd479",
   "metadata": {},
   "source": [
    "### Set and use default base, zone and time in a Sample"
   ]
  },
  {
   "cell_type": "code",
   "execution_count": 37,
   "id": "e9c7c338",
   "metadata": {},
   "outputs": [
    {
     "name": "stdout",
     "output_type": "stream",
     "text": [
      "sample.features.get_time_assignment() = 0.0\n",
      "\n",
      "sample.features.get_zone_type('TestZoneName', 'SurfaceMesh') = 'Unstructured'\n",
      "sample.features.get_zone_type('new_zone', 'SurfaceMesh') = 'Structured'\n"
     ]
    }
   ],
   "source": [
    "# Reset default base and time\n",
    "sample.features._default_active_time = None\n",
    "sample.features._default_active_base = None\n",
    "\n",
    "# Without a provided default time, it searches the first time available in all mesh times\n",
    "print(f\"{sample.features.get_time_assignment() = }\", end=\"\\n\\n\")\n",
    "\n",
    "# Create a new zone in 'SurfaceMesh' base\n",
    "sample.init_zone(\n",
    "    zone_shape=np.array([5, 3, 0]),\n",
    "    zone_type=CGK.Structured_s,\n",
    "    zone_name=\"new_zone\",\n",
    "    base_name=\"SurfaceMesh\",\n",
    ")\n",
    "print(f\"{sample.features.get_zone_type('TestZoneName', 'SurfaceMesh') = }\")\n",
    "print(f\"{sample.features.get_zone_type('new_zone', 'SurfaceMesh') = }\")"
   ]
  },
  {
   "cell_type": "code",
   "execution_count": 38,
   "id": "94c072ba",
   "metadata": {},
   "outputs": [
    {
     "name": "stdout",
     "output_type": "stream",
     "text": [
      "sample.features.get_zone_names() = ['TestZoneName', 'new_zone']\n",
      "\n",
      "\"No default zone provided among ['TestZoneName', 'new_zone'] in the default base: SurfaceMesh\"\n"
     ]
    }
   ],
   "source": [
    "# Set default base\n",
    "sample.set_default_base(\"SurfaceMesh\")\n",
    "\n",
    "# Attempting to get a zone when the default zone is not set, and there are multiple zones available in the default base.\n",
    "print(f\"{sample.features.get_zone_names() = }\", end=\"\\n\\n\")\n",
    "try:\n",
    "    sample.features.get_zone_assignment()\n",
    "except KeyError as e:\n",
    "    print(str(e))"
   ]
  },
  {
   "cell_type": "code",
   "execution_count": 39,
   "id": "1b0877f6",
   "metadata": {},
   "outputs": [
    {
     "name": "stdout",
     "output_type": "stream",
     "text": [
      "sample.features.get_time_assignment() = 0.0\n",
      "sample.features.get_base_assignment() = 'SurfaceMesh'\n",
      "sample.features.get_zone_assignment() = 'TestZoneName'\n",
      "\n",
      "sample.features.get_zone_type() = 'Unstructured'\n",
      "sample.features.get_zone() = ['TestZoneName', array([5, 3, 0]), [['ZoneType', array([b'U', b'n', b's', b't', b'r', b'u', b'c', b't', b'u', b'r', b'e',\n",
      "       b'd'], dtype='|S1'), [], 'ZoneType_t'], ['GridCoordinates', None, [['CoordinateX', array([0. , 1. , 1. , 0. , 0.5]), [], 'DataArray_t'], ['CoordinateY', array([0. , 0. , 1. , 1. , 1.5]), [], 'DataArray_t']], 'GridCoordinates_t'], ['VertexFields', None, [['GridLocation', array([b'V', b'e', b'r', b't', b'e', b'x'], dtype='|S1'), [], 'GridLocation_t'], ['Pressure', array([-0.86064814,  0.44936936,  0.08085363,  0.16084348,  0.78309393]), [], 'DataArray_t'], ['Temperature', array([ 0.64670724,  0.8892291 ,  1.25256206, -1.45263793,  0.65221439]), [], 'DataArray_t']], 'FlowSolution_t']], 'Zone_t']\n"
     ]
    }
   ],
   "source": [
    "# Reset default base and time\n",
    "sample.features._default_active_time = None\n",
    "sample.features._default_active_base = None\n",
    "\n",
    "# Set default base, zone and time\n",
    "sample.set_default_zone_base(\"TestZoneName\", \"SurfaceMesh\", 0.0)\n",
    "\n",
    "# Now that default base, zone and time have been assigned, it is no longer necessary to specify them in function calls.\n",
    "print(f\"{sample.features.get_time_assignment() = }\")\n",
    "print(f\"{sample.features.get_base_assignment() = }\")\n",
    "print(f\"{sample.features.get_zone_assignment() = }\", end=\"\\n\\n\")\n",
    "\n",
    "# Print the type of the default zone (from the default base)\n",
    "print(f\"{sample.features.get_zone_type() = }\")\n",
    "\n",
    "# Print the default zone content (from the default base)\n",
    "print(f\"{sample.features.get_zone() = }\")"
   ]
  },
  {
   "cell_type": "code",
   "execution_count": 40,
   "id": "dc70db81",
   "metadata": {},
   "outputs": [
    {
     "name": "stdout",
     "output_type": "stream",
     "text": [
      "sample.features.get_zone_type('new_zone') = 'Structured'\n"
     ]
    }
   ],
   "source": [
    "# If zone is specified as an argument in a function, it takes precedence over the default zone.\n",
    "print(\n",
    "    f\"{sample.features.get_zone_type('new_zone') = }\"\n",
    ")  # Print the 'new_zone' type instead of the default zone type"
   ]
  },
  {
   "cell_type": "markdown",
   "id": "ee5af27d",
   "metadata": {},
   "source": [
    "### More information on how default values work"
   ]
  },
  {
   "cell_type": "code",
   "execution_count": 41,
   "id": "c458f8f9",
   "metadata": {},
   "outputs": [
    {
     "ename": "FileNotFoundError",
     "evalue": "[Errno 2] No such file or directory: '../../images/default_value_selection.png'",
     "output_type": "error",
     "traceback": [
      "\u001b[31m---------------------------------------------------------------------------\u001b[39m",
      "\u001b[31mFileNotFoundError\u001b[39m                         Traceback (most recent call last)",
      "\u001b[36mCell\u001b[39m\u001b[36m \u001b[39m\u001b[32mIn[41]\u001b[39m\u001b[32m, line 6\u001b[39m\n\u001b[32m      4\u001b[39m \u001b[38;5;28;01mexcept\u001b[39;00m \u001b[38;5;167;01mNameError\u001b[39;00m:\n\u001b[32m      5\u001b[39m     filename = Path(\u001b[33m\"\u001b[39m\u001b[33m..\u001b[39m\u001b[33m\"\u001b[39m) / \u001b[33m\"\u001b[39m\u001b[33m..\u001b[39m\u001b[33m\"\u001b[39m / \u001b[33m\"\u001b[39m\u001b[33mimages\u001b[39m\u001b[33m\"\u001b[39m / \u001b[33m\"\u001b[39m\u001b[33mdefault_value_selection.png\u001b[39m\u001b[33m\"\u001b[39m\n\u001b[32m----> \u001b[39m\u001b[32m6\u001b[39m \u001b[43mImage\u001b[49m\u001b[43m(\u001b[49m\u001b[43mfilename\u001b[49m\u001b[43m=\u001b[49m\u001b[43mfilename\u001b[49m\u001b[43m)\u001b[49m\n",
      "\u001b[36mFile \u001b[39m\u001b[32m~/miniconda3/envs/plaid-dev/lib/python3.11/site-packages/IPython/core/display.py:1025\u001b[39m, in \u001b[36mImage.__init__\u001b[39m\u001b[34m(self, data, url, filename, format, embed, width, height, retina, unconfined, metadata, alt)\u001b[39m\n\u001b[32m   1023\u001b[39m \u001b[38;5;28mself\u001b[39m.unconfined = unconfined\n\u001b[32m   1024\u001b[39m \u001b[38;5;28mself\u001b[39m.alt = alt\n\u001b[32m-> \u001b[39m\u001b[32m1025\u001b[39m \u001b[38;5;28;43msuper\u001b[39;49m\u001b[43m(\u001b[49m\u001b[43mImage\u001b[49m\u001b[43m,\u001b[49m\u001b[43m \u001b[49m\u001b[38;5;28;43mself\u001b[39;49m\u001b[43m)\u001b[49m\u001b[43m.\u001b[49m\u001b[34;43m__init__\u001b[39;49m\u001b[43m(\u001b[49m\u001b[43mdata\u001b[49m\u001b[43m=\u001b[49m\u001b[43mdata\u001b[49m\u001b[43m,\u001b[49m\u001b[43m \u001b[49m\u001b[43murl\u001b[49m\u001b[43m=\u001b[49m\u001b[43murl\u001b[49m\u001b[43m,\u001b[49m\u001b[43m \u001b[49m\u001b[43mfilename\u001b[49m\u001b[43m=\u001b[49m\u001b[43mfilename\u001b[49m\u001b[43m,\u001b[49m\n\u001b[32m   1026\u001b[39m \u001b[43m        \u001b[49m\u001b[43mmetadata\u001b[49m\u001b[43m=\u001b[49m\u001b[43mmetadata\u001b[49m\u001b[43m)\u001b[49m\n\u001b[32m   1028\u001b[39m \u001b[38;5;28;01mif\u001b[39;00m \u001b[38;5;28mself\u001b[39m.width \u001b[38;5;129;01mis\u001b[39;00m \u001b[38;5;28;01mNone\u001b[39;00m \u001b[38;5;129;01mand\u001b[39;00m \u001b[38;5;28mself\u001b[39m.metadata.get(\u001b[33m'\u001b[39m\u001b[33mwidth\u001b[39m\u001b[33m'\u001b[39m, {}):\n\u001b[32m   1029\u001b[39m     \u001b[38;5;28mself\u001b[39m.width = metadata[\u001b[33m'\u001b[39m\u001b[33mwidth\u001b[39m\u001b[33m'\u001b[39m]\n",
      "\u001b[36mFile \u001b[39m\u001b[32m~/miniconda3/envs/plaid-dev/lib/python3.11/site-packages/IPython/core/display.py:343\u001b[39m, in \u001b[36mDisplayObject.__init__\u001b[39m\u001b[34m(self, data, url, filename, metadata)\u001b[39m\n\u001b[32m    340\u001b[39m \u001b[38;5;28;01melif\u001b[39;00m \u001b[38;5;28mself\u001b[39m.metadata \u001b[38;5;129;01mis\u001b[39;00m \u001b[38;5;28;01mNone\u001b[39;00m:\n\u001b[32m    341\u001b[39m     \u001b[38;5;28mself\u001b[39m.metadata = {}\n\u001b[32m--> \u001b[39m\u001b[32m343\u001b[39m \u001b[38;5;28;43mself\u001b[39;49m\u001b[43m.\u001b[49m\u001b[43mreload\u001b[49m\u001b[43m(\u001b[49m\u001b[43m)\u001b[49m\n\u001b[32m    344\u001b[39m \u001b[38;5;28mself\u001b[39m._check_data()\n",
      "\u001b[36mFile \u001b[39m\u001b[32m~/miniconda3/envs/plaid-dev/lib/python3.11/site-packages/IPython/core/display.py:1060\u001b[39m, in \u001b[36mImage.reload\u001b[39m\u001b[34m(self)\u001b[39m\n\u001b[32m   1058\u001b[39m \u001b[38;5;250m\u001b[39m\u001b[33;03m\"\"\"Reload the raw data from file or URL.\"\"\"\u001b[39;00m\n\u001b[32m   1059\u001b[39m \u001b[38;5;28;01mif\u001b[39;00m \u001b[38;5;28mself\u001b[39m.embed:\n\u001b[32m-> \u001b[39m\u001b[32m1060\u001b[39m     \u001b[38;5;28;43msuper\u001b[39;49m\u001b[43m(\u001b[49m\u001b[43mImage\u001b[49m\u001b[43m,\u001b[49m\u001b[38;5;28;43mself\u001b[39;49m\u001b[43m)\u001b[49m\u001b[43m.\u001b[49m\u001b[43mreload\u001b[49m\u001b[43m(\u001b[49m\u001b[43m)\u001b[49m\n\u001b[32m   1061\u001b[39m     \u001b[38;5;28;01mif\u001b[39;00m \u001b[38;5;28mself\u001b[39m.retina:\n\u001b[32m   1062\u001b[39m         \u001b[38;5;28mself\u001b[39m._retina_shape()\n",
      "\u001b[36mFile \u001b[39m\u001b[32m~/miniconda3/envs/plaid-dev/lib/python3.11/site-packages/IPython/core/display.py:369\u001b[39m, in \u001b[36mDisplayObject.reload\u001b[39m\u001b[34m(self)\u001b[39m\n\u001b[32m    367\u001b[39m \u001b[38;5;28;01mif\u001b[39;00m \u001b[38;5;28mself\u001b[39m.filename \u001b[38;5;129;01mis\u001b[39;00m \u001b[38;5;129;01mnot\u001b[39;00m \u001b[38;5;28;01mNone\u001b[39;00m:\n\u001b[32m    368\u001b[39m     encoding = \u001b[38;5;28;01mNone\u001b[39;00m \u001b[38;5;28;01mif\u001b[39;00m \u001b[33m\"\u001b[39m\u001b[33mb\u001b[39m\u001b[33m\"\u001b[39m \u001b[38;5;129;01min\u001b[39;00m \u001b[38;5;28mself\u001b[39m._read_flags \u001b[38;5;28;01melse\u001b[39;00m \u001b[33m\"\u001b[39m\u001b[33mutf-8\u001b[39m\u001b[33m\"\u001b[39m\n\u001b[32m--> \u001b[39m\u001b[32m369\u001b[39m     \u001b[38;5;28;01mwith\u001b[39;00m \u001b[38;5;28;43mopen\u001b[39;49m\u001b[43m(\u001b[49m\u001b[38;5;28;43mself\u001b[39;49m\u001b[43m.\u001b[49m\u001b[43mfilename\u001b[49m\u001b[43m,\u001b[49m\u001b[43m \u001b[49m\u001b[38;5;28;43mself\u001b[39;49m\u001b[43m.\u001b[49m\u001b[43m_read_flags\u001b[49m\u001b[43m,\u001b[49m\u001b[43m \u001b[49m\u001b[43mencoding\u001b[49m\u001b[43m=\u001b[49m\u001b[43mencoding\u001b[49m\u001b[43m)\u001b[49m \u001b[38;5;28;01mas\u001b[39;00m f:\n\u001b[32m    370\u001b[39m         \u001b[38;5;28mself\u001b[39m.data = f.read()\n\u001b[32m    371\u001b[39m \u001b[38;5;28;01melif\u001b[39;00m \u001b[38;5;28mself\u001b[39m.url \u001b[38;5;129;01mis\u001b[39;00m \u001b[38;5;129;01mnot\u001b[39;00m \u001b[38;5;28;01mNone\u001b[39;00m:\n\u001b[32m    372\u001b[39m     \u001b[38;5;66;03m# Deferred import\u001b[39;00m\n",
      "\u001b[31mFileNotFoundError\u001b[39m: [Errno 2] No such file or directory: '../../images/default_value_selection.png'"
     ]
    }
   ],
   "source": [
    "from IPython.display import Image\n",
    "try:\n",
    "    filename = Path(__file__).parent.parent.parent / \"docs\" / \"source\" / \"images\" / \"default_value_selection.png\"\n",
    "except NameError:\n",
    "    filename = Path(\"..\") / \"..\" / \"images\" / \"default_value_selection.png\"\n",
    "Image(filename=filename)"
   ]
  },
  {
   "cell_type": "markdown",
   "id": "31d6413f",
   "metadata": {},
   "source": [
    "## Section 4: Saving and Loading Sample\n",
    "\n",
    "This section demonstrates how to save and load a Sample from a directory."
   ]
  },
  {
   "cell_type": "markdown",
   "id": "002ac78a",
   "metadata": {},
   "source": [
    "### Save Sample to as a file tree"
   ]
  },
  {
   "cell_type": "code",
   "execution_count": 42,
   "id": "7583bca4",
   "metadata": {},
   "outputs": [
    {
     "name": "stdout",
     "output_type": "stream",
     "text": [
      "saving path: /tmp/test_safe_to_delete_615011568/test\n"
     ]
    }
   ],
   "source": [
    "test_pth = Path(f\"/tmp/test_safe_to_delete_{np.random.randint(low=1, high=2_000_000_000)}\")\n",
    "test_pth.mkdir(parents=True, exist_ok=True)\n",
    "\n",
    "sample_save_fname = test_pth / \"test\"\n",
    "print(f\"saving path: {sample_save_fname}\")\n",
    "\n",
    "sample.save(sample_save_fname)"
   ]
  },
  {
   "cell_type": "markdown",
   "id": "81344d90",
   "metadata": {},
   "source": [
    "### Load a Sample from a directory via initialization"
   ]
  },
  {
   "cell_type": "code",
   "execution_count": 43,
   "id": "8ed5c7b4",
   "metadata": {},
   "outputs": [
    {
     "name": "stdout",
     "output_type": "stream",
     "text": [
      "sample = Sample(0 scalars, 1 timestamp, 3 fields)\n",
      " CGNSLibraryVersion : (1,) [4.] float32 CGNSLibraryVersion_t\n",
      " Base_2_2 : (2,) [2 2] int32 CGNSBase_t\n",
      "|_  2D : None Family_t\n",
      "|_  Zone : (1, 3) [[5 3 0]] int64 Zone_t\n",
      "   |_  ZoneType : (12,) Unstructured |S1 ZoneType_t\n",
      "   |_  GridCoordinates : None GridCoordinates_t\n",
      "      |_  CoordinateX : (5,) [0.  1.  1.  0.  0.5] float64 DataArray_t\n",
      "      |_  CoordinateY : (5,) [0.  0.  1.  1.  1.5] float64 DataArray_t\n",
      "   |_  Elements_TRI_3 : (2,) [5 0] int32 Elements_t\n",
      "      |_  ElementRange : (2,) [1 3] int64 IndexRange_t\n",
      "      |_  ElementConnectivity : (9,) [1 ... 4] int64 DataArray_t\n",
      "   |_  PointData : None FlowSolution_t\n",
      "      |_  GridLocation : (6,) Vertex |S1 GridLocation_t\n",
      "      |_  OriginalIds : (5,) [1 2 3 4 5] int64 DataArray_t\n",
      "      |_  test_node_field_1 : (5,) [-0.43987395  0.35726481 -0.60803963  0.25869825 -0.22470234] float64 DataArray_t\n",
      "   |_  CellData : None FlowSolution_t\n",
      "      |_  GridLocation : (10,) CellCenter |S1 GridLocation_t\n",
      "      |_  OriginalIds : (3,) [1 2 3] int64 DataArray_t\n",
      "      |_  test_elem_field_1 : (3,) [ 0.32621741 -1.61103265 -0.2735113 ] float64 DataArray_t\n",
      "   |_  SurfaceData : None FlowSolution_t\n",
      "      |_  GridLocation : (10,) FaceCenter |S1 GridLocation_t\n",
      "      |_  OriginalIds : None DataArray_t\n",
      "   |_  FamilyName : (2,) 2D |S1 FamilyName_t\n",
      "|_  Time : (1,) [1] int32 BaseIterativeData_t\n",
      "   |_  IterationValues : (1,) [1] int32 DataArray_t\n",
      "   |_  TimeValues : (1,) [0.] float64 DataArray_t\n",
      "sample.get_scalar_names() = []\n",
      "sample.get_field_names() = ['OriginalIds', 'test_elem_field_1', 'test_node_field_1']\n"
     ]
    }
   ],
   "source": [
    "new_sample = Sample(path=sample_save_fname)\n",
    "\n",
    "show_sample(new_sample)"
   ]
  },
  {
   "cell_type": "markdown",
   "id": "041979c3",
   "metadata": {},
   "source": [
    "### Load a Sample from a directory via the Sample class"
   ]
  },
  {
   "cell_type": "code",
   "execution_count": 44,
   "id": "2860c63d",
   "metadata": {},
   "outputs": [
    {
     "name": "stdout",
     "output_type": "stream",
     "text": [
      "sample = Sample(0 scalars, 1 timestamp, 3 fields)\n",
      " CGNSLibraryVersion : (1,) [4.] float32 CGNSLibraryVersion_t\n",
      " Base_2_2 : (2,) [2 2] int32 CGNSBase_t\n",
      "|_  2D : None Family_t\n",
      "|_  Zone : (1, 3) [[5 3 0]] int64 Zone_t\n",
      "   |_  ZoneType : (12,) Unstructured |S1 ZoneType_t\n",
      "   |_  GridCoordinates : None GridCoordinates_t\n",
      "      |_  CoordinateX : (5,) [0.  1.  1.  0.  0.5] float64 DataArray_t\n",
      "      |_  CoordinateY : (5,) [0.  0.  1.  1.  1.5] float64 DataArray_t\n",
      "   |_  Elements_TRI_3 : (2,) [5 0] int32 Elements_t\n",
      "      |_  ElementRange : (2,) [1 3] int64 IndexRange_t\n",
      "      |_  ElementConnectivity : (9,) [1 ... 4] int64 DataArray_t\n",
      "   |_  PointData : None FlowSolution_t\n",
      "      |_  GridLocation : (6,) Vertex |S1 GridLocation_t\n",
      "      |_  OriginalIds : (5,) [1 2 3 4 5] int64 DataArray_t\n",
      "      |_  test_node_field_1 : (5,) [-0.43987395  0.35726481 -0.60803963  0.25869825 -0.22470234] float64 DataArray_t\n",
      "   |_  CellData : None FlowSolution_t\n",
      "      |_  GridLocation : (10,) CellCenter |S1 GridLocation_t\n",
      "      |_  OriginalIds : (3,) [1 2 3] int64 DataArray_t\n",
      "      |_  test_elem_field_1 : (3,) [ 0.32621741 -1.61103265 -0.2735113 ] float64 DataArray_t\n",
      "   |_  SurfaceData : None FlowSolution_t\n",
      "      |_  GridLocation : (10,) FaceCenter |S1 GridLocation_t\n",
      "      |_  OriginalIds : None DataArray_t\n",
      "   |_  FamilyName : (2,) 2D |S1 FamilyName_t\n",
      "|_  Time : (1,) [1] int32 BaseIterativeData_t\n",
      "   |_  IterationValues : (1,) [1] int32 DataArray_t\n",
      "   |_  TimeValues : (1,) [0.] float64 DataArray_t\n",
      "sample.get_scalar_names() = []\n",
      "sample.get_field_names() = ['OriginalIds', 'test_elem_field_1', 'test_node_field_1']\n"
     ]
    }
   ],
   "source": [
    "new_sample_2 = Sample.load_from_dir(test_pth / \"test\")\n",
    "\n",
    "show_sample(new_sample_2)"
   ]
  },
  {
   "cell_type": "markdown",
   "id": "3a5ad65d",
   "metadata": {},
   "source": [
    "### Load the Sample from a directory via a Sample instance"
   ]
  },
  {
   "cell_type": "code",
   "execution_count": 45,
   "id": "651ac789",
   "metadata": {},
   "outputs": [
    {
     "name": "stdout",
     "output_type": "stream",
     "text": [
      "sample = Sample(0 scalars, 1 timestamp, 3 fields)\n",
      " CGNSLibraryVersion : (1,) [4.] float32 CGNSLibraryVersion_t\n",
      " Base_2_2 : (2,) [2 2] int32 CGNSBase_t\n",
      "|_  2D : None Family_t\n",
      "|_  Zone : (1, 3) [[5 3 0]] int64 Zone_t\n",
      "   |_  ZoneType : (12,) Unstructured |S1 ZoneType_t\n",
      "   |_  GridCoordinates : None GridCoordinates_t\n",
      "      |_  CoordinateX : (5,) [0.  1.  1.  0.  0.5] float64 DataArray_t\n",
      "      |_  CoordinateY : (5,) [0.  0.  1.  1.  1.5] float64 DataArray_t\n",
      "   |_  Elements_TRI_3 : (2,) [5 0] int32 Elements_t\n",
      "      |_  ElementRange : (2,) [1 3] int64 IndexRange_t\n",
      "      |_  ElementConnectivity : (9,) [1 ... 4] int64 DataArray_t\n",
      "   |_  PointData : None FlowSolution_t\n",
      "      |_  GridLocation : (6,) Vertex |S1 GridLocation_t\n",
      "      |_  OriginalIds : (5,) [1 2 3 4 5] int64 DataArray_t\n",
      "      |_  test_node_field_1 : (5,) [-0.43987395  0.35726481 -0.60803963  0.25869825 -0.22470234] float64 DataArray_t\n",
      "   |_  CellData : None FlowSolution_t\n",
      "      |_  GridLocation : (10,) CellCenter |S1 GridLocation_t\n",
      "      |_  OriginalIds : (3,) [1 2 3] int64 DataArray_t\n",
      "      |_  test_elem_field_1 : (3,) [ 0.32621741 -1.61103265 -0.2735113 ] float64 DataArray_t\n",
      "   |_  SurfaceData : None FlowSolution_t\n",
      "      |_  GridLocation : (10,) FaceCenter |S1 GridLocation_t\n",
      "      |_  OriginalIds : None DataArray_t\n",
      "   |_  FamilyName : (2,) 2D |S1 FamilyName_t\n",
      "|_  Time : (1,) [1] int32 BaseIterativeData_t\n",
      "   |_  IterationValues : (1,) [1] int32 DataArray_t\n",
      "   |_  TimeValues : (1,) [0.] float64 DataArray_t\n",
      "sample.get_scalar_names() = []\n",
      "sample.get_field_names() = ['OriginalIds', 'test_elem_field_1', 'test_node_field_1']\n"
     ]
    }
   ],
   "source": [
    "new_sample = Sample()\n",
    "new_sample.load(sample_save_fname)\n",
    "\n",
    "show_sample(new_sample)"
   ]
  }
 ],
 "metadata": {
  "jupytext": {
   "formats": "ipynb,py:percent"
  },
  "kernelspec": {
   "display_name": "plaid-dev",
   "language": "python",
   "name": "python3"
  },
  "language_info": {
   "codemirror_mode": {
    "name": "ipython",
    "version": 3
   },
   "file_extension": ".py",
   "mimetype": "text/x-python",
   "name": "python",
   "nbconvert_exporter": "python",
   "pygments_lexer": "ipython3",
   "version": "3.11.13"
  }
 },
 "nbformat": 4,
 "nbformat_minor": 5
}
