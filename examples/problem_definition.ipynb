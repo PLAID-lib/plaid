{
 "cells": [
  {
   "cell_type": "markdown",
   "metadata": {},
   "source": [
    "# Problem Definition Examples\n",
    "\n",
    "This Jupyter Notebook demonstrates the usage of the ProblemDefinition class for defining machine learning problems using the PLAID library. It includes examples of:\n",
    "\n",
    "1. Initializing an empty ProblemDefinition\n",
    "2. Configuring problem characteristics and retrieve data\n",
    "3. Saving and loading problem definitions\n",
    "\n",
    "This notebook provides examples of using the ProblemDefinition class to define machine learning problems, configure characteristics, and save/load problem definitions.\n",
    "\n",
    "**Each section is documented and explained.**"
   ]
  },
  {
   "cell_type": "code",
   "execution_count": 2,
   "metadata": {},
   "outputs": [],
   "source": [
    "# Import required libraries\n",
    "import numpy as np\n",
    "import os"
   ]
  },
  {
   "cell_type": "code",
   "execution_count": 3,
   "metadata": {},
   "outputs": [],
   "source": [
    "# Import necessary libraries and functions\n",
    "from plaid.containers.dataset import Dataset, Sample\n",
    "from plaid.problem_definition import ProblemDefinition\n",
    "from plaid.utils.split import split_dataset"
   ]
  },
  {
   "cell_type": "markdown",
   "metadata": {},
   "source": [
    "## Section 1: Initializing an Empty ProblemDefinition\n",
    "\n",
    "This section demonstrates how to initialize a Problem Definition and add inputs / outputs."
   ]
  },
  {
   "cell_type": "markdown",
   "metadata": {},
   "source": [
    "### Initialize and print ProblemDefinition"
   ]
  },
  {
   "cell_type": "code",
   "execution_count": 4,
   "metadata": {},
   "outputs": [
    {
     "name": "stdout",
     "output_type": "stream",
     "text": [
      "#---# Empty ProblemDefinition\n",
      "problem = ProblemDefinition()\n"
     ]
    }
   ],
   "source": [
    "print(\"#---# Empty ProblemDefinition\")\n",
    "problem = ProblemDefinition()\n",
    "print(f\"{problem = }\")"
   ]
  },
  {
   "cell_type": "markdown",
   "metadata": {},
   "source": [
    "### Add inputs / outputs to a Problem Definition"
   ]
  },
  {
   "cell_type": "code",
   "execution_count": 5,
   "metadata": {},
   "outputs": [
    {
     "name": "stdout",
     "output_type": "stream",
     "text": [
      "problem.get_inputs() = ['in', 'in2', 'in3']\n",
      "problem.get_outputs() = ['out', 'out2']\n"
     ]
    }
   ],
   "source": [
    "# Add unique input and output variables\n",
    "problem.add_input('in')\n",
    "problem.add_output('out')\n",
    "\n",
    "# Add list of input and output variables\n",
    "problem.add_inputs(['in2', 'in3'])\n",
    "problem.add_outputs(['out2'])\n",
    "\n",
    "print(f\"{problem.get_inputs() = }\")\n",
    "print(f\"{problem.get_outputs() = }\", )"
   ]
  },
  {
   "cell_type": "markdown",
   "metadata": {},
   "source": [
    "## Section 2: Configuring Problem Characteristics and retrieve data\n",
    "\n",
    "This section demonstrates how to handle and configure ProblemDefinition objects and access data."
   ]
  },
  {
   "cell_type": "markdown",
   "metadata": {},
   "source": [
    "### Set Problem Definition task"
   ]
  },
  {
   "cell_type": "code",
   "execution_count": 6,
   "metadata": {},
   "outputs": [
    {
     "name": "stdout",
     "output_type": "stream",
     "text": [
      "problem.get_task() = 'regression'\n"
     ]
    }
   ],
   "source": [
    "# Set the task type (e.g., regression)\n",
    "problem.set_task('regression')\n",
    "print(f\"{problem.get_task() = }\")"
   ]
  },
  {
   "cell_type": "markdown",
   "metadata": {},
   "source": [
    "### Set Problem Definition split"
   ]
  },
  {
   "cell_type": "code",
   "execution_count": 7,
   "metadata": {},
   "outputs": [
    {
     "name": "stdout",
     "output_type": "stream",
     "text": [
      "dataset = Dataset(0 samples, 0 scalars, 0 fields)\n",
      "dataset = Dataset(4 samples, 0 scalars, 0 fields)\n"
     ]
    }
   ],
   "source": [
    "# Init an empty Dataset\n",
    "dataset = Dataset()\n",
    "print(f\"{dataset = }\")\n",
    "\n",
    "# Add Samples\n",
    "dataset.add_samples([Sample(), Sample(), Sample(), Sample()])\n",
    "print(f\"{dataset = }\")"
   ]
  },
  {
   "cell_type": "code",
   "execution_count": 8,
   "metadata": {},
   "outputs": [
    {
     "name": "stdout",
     "output_type": "stream",
     "text": [
      "split = {'train': [0, 1], 'val': [2], 'other': [3]}\n"
     ]
    }
   ],
   "source": [
    "# Set startegy options for the split\n",
    "options = {\n",
    "    'shuffle': False,\n",
    "    'split_sizes': {\n",
    "        'train': 2,\n",
    "        'val': 1,\n",
    "    },\n",
    "}\n",
    "\n",
    "split = split_dataset(dataset, options)\n",
    "print(f\"{split = }\")"
   ]
  },
  {
   "cell_type": "code",
   "execution_count": 9,
   "metadata": {},
   "outputs": [
    {
     "name": "stdout",
     "output_type": "stream",
     "text": [
      "problem.get_split() = {'train': [0, 1], 'val': [2], 'other': [3]}\n"
     ]
    }
   ],
   "source": [
    "problem.set_split(split)\n",
    "print(f\"{problem.get_split() = }\")"
   ]
  },
  {
   "cell_type": "markdown",
   "metadata": {},
   "source": [
    "### Retrieves Problem Definition split indices"
   ]
  },
  {
   "cell_type": "code",
   "execution_count": 10,
   "metadata": {},
   "outputs": [
    {
     "name": "stdout",
     "output_type": "stream",
     "text": [
      "problem.get_all_indices() = [0, 1, 2, 3]\n"
     ]
    }
   ],
   "source": [
    "# Get all split indices\n",
    "print(f\"{problem.get_all_indices() = }\")"
   ]
  },
  {
   "cell_type": "markdown",
   "metadata": {},
   "source": [
    "### Filter Problem Definition inputs / outputs by name"
   ]
  },
  {
   "cell_type": "code",
   "execution_count": 11,
   "metadata": {},
   "outputs": [
    {
     "name": "stdout",
     "output_type": "stream",
     "text": [
      "problem.filter_input_names(['in', 'in3', 'in5']) = ['in', 'in3']\n",
      "problem.filter_output_names(['out', 'out3', 'out5']) = ['out']\n"
     ]
    }
   ],
   "source": [
    "print(f\"{problem.filter_input_names(['in', 'in3', 'in5']) = }\")\n",
    "print(f\"{problem.filter_output_names(['out', 'out3', 'out5']) = }\")"
   ]
  },
  {
   "cell_type": "markdown",
   "metadata": {},
   "source": [
    "## Section 3: Saving and Loading Problem Definitions\n",
    "\n",
    "This section demonstrates how to save and load a Problem Definition from a directory."
   ]
  },
  {
   "cell_type": "markdown",
   "metadata": {},
   "source": [
    "### Save a Problem Definition to a directory"
   ]
  },
  {
   "cell_type": "code",
   "execution_count": 12,
   "metadata": {},
   "outputs": [
    {
     "name": "stdout",
     "output_type": "stream",
     "text": [
      "saving path: /tmp/test_safe_to_delete_195515190983/test\n"
     ]
    }
   ],
   "source": [
    "test_pth = f\"/tmp/test_safe_to_delete_{np.random.randint(1e10, 1e12)}\"\n",
    "pb_def_save_fname = os.path.join(test_pth, 'test')\n",
    "os.makedirs(test_pth)\n",
    "print(f\"saving path: {pb_def_save_fname}\")\n",
    "\n",
    "problem._save_to_dir_(pb_def_save_fname)"
   ]
  },
  {
   "cell_type": "markdown",
   "metadata": {},
   "source": [
    "### Load a ProblemDefinition from a directory via initialization"
   ]
  },
  {
   "cell_type": "code",
   "execution_count": 13,
   "metadata": {},
   "outputs": [
    {
     "name": "stdout",
     "output_type": "stream",
     "text": [
      "ProblemDefinition(input_names=['in', 'in2', 'in3'], output_names=['out', 'out2'], task='regression', split_names=['train', 'val', 'other'])\n"
     ]
    }
   ],
   "source": [
    "problem = ProblemDefinition(pb_def_save_fname)\n",
    "print(problem)"
   ]
  },
  {
   "cell_type": "markdown",
   "metadata": {},
   "source": [
    "### Load from a directory via the ProblemDefinition class"
   ]
  },
  {
   "cell_type": "code",
   "execution_count": 14,
   "metadata": {},
   "outputs": [
    {
     "name": "stdout",
     "output_type": "stream",
     "text": [
      "ProblemDefinition(input_names=['in', 'in2', 'in3'], output_names=['out', 'out2'], task='regression', split_names=['train', 'val', 'other'])\n"
     ]
    }
   ],
   "source": [
    "problem = ProblemDefinition.load(pb_def_save_fname)\n",
    "print(problem)"
   ]
  },
  {
   "cell_type": "markdown",
   "metadata": {},
   "source": [
    "### Load from a directory via a Dataset instance"
   ]
  },
  {
   "cell_type": "code",
   "execution_count": 15,
   "metadata": {},
   "outputs": [
    {
     "name": "stdout",
     "output_type": "stream",
     "text": [
      "ProblemDefinition(input_names=['in', 'in2', 'in3'], output_names=['out', 'out2'], task='regression', split_names=['train', 'val', 'other'])\n"
     ]
    }
   ],
   "source": [
    "problem = ProblemDefinition()\n",
    "problem._load_from_dir_(pb_def_save_fname)\n",
    "print(problem)"
   ]
  }
 ],
 "metadata": {
  "kernelspec": {
   "display_name": "Python 3",
   "language": "python",
   "name": "python3"
  },
  "language_info": {
   "codemirror_mode": {
    "name": "ipython",
    "version": 3
   },
   "file_extension": ".py",
   "mimetype": "text/x-python",
   "name": "python",
   "nbconvert_exporter": "python",
   "pygments_lexer": "ipython3",
   "version": "3.11.5"
  }
 },
 "nbformat": 4,
 "nbformat_minor": 2
}
