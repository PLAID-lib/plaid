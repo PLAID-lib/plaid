{
 "cells": [
  {
   "cell_type": "markdown",
   "metadata": {},
   "source": [
    "# Initializing a Dataset with Tabular Data\n",
    "\n",
    "1. Initializing a Dataset with Tabular Data:\n",
    "- Generate random tabular data for multiple scalars.\n",
    "- Initialize a dataset with the tabular data.\n",
    "\n",
    "2. Accessing and Manipulating Data in the Dataset:\n",
    "- Retrieve and print the dataset and specific samples.\n",
    "- Access and display the value of a particular scalar within a sample.\n",
    "- Retrieve tabular data from the dataset based on scalar names.\n",
    "\n",
    "This example demonstrates how to initialize a dataset with tabular data, access specific samples, retrieve scalar values, and extract tabular data based on scalar names."
   ]
  },
  {
   "cell_type": "code",
   "execution_count": null,
   "metadata": {},
   "outputs": [],
   "source": [
    "# Import required libraries\n",
    "import numpy as np"
   ]
  },
  {
   "cell_type": "code",
   "execution_count": null,
   "metadata": {},
   "outputs": [],
   "source": [
    "# Import necessary libraries and functions\n",
    "from plaid.utils.init_with_tabular import initialize_dataset_with_tabular_data"
   ]
  },
  {
   "cell_type": "code",
   "execution_count": null,
   "metadata": {},
   "outputs": [],
   "source": [
    "# Print dict util\n",
    "def dprint(name: str, dictio: dict):\n",
    "    print(name, \"{\")\n",
    "    for key, value in dictio.items():\n",
    "        print(\"    \", key, \":\", value)\n",
    "\n",
    "    print(\"}\")"
   ]
  },
  {
   "cell_type": "markdown",
   "metadata": {},
   "source": [
    "## Section 1: Initializing a Dataset with Tabular Data"
   ]
  },
  {
   "cell_type": "code",
   "execution_count": null,
   "metadata": {},
   "outputs": [],
   "source": [
    "# Generate random tabular data for multiple scalars\n",
    "nb_scalars = 7\n",
    "nb_samples = 10\n",
    "names = [f\"scalar_{j}\" for j in range(nb_scalars)]\n",
    "\n",
    "tabular_data = {}\n",
    "for name in names:\n",
    "    tabular_data[name] = np.random.randn(nb_samples)\n",
    "\n",
    "dprint(\"tabular_data\", tabular_data)"
   ]
  },
  {
   "cell_type": "code",
   "execution_count": null,
   "metadata": {},
   "outputs": [],
   "source": [
    "# Initialize a dataset with the tabular data\n",
    "dataset = initialize_dataset_with_tabular_data(tabular_data)\n",
    "print(\"Initialized Dataset: \", dataset)"
   ]
  },
  {
   "cell_type": "markdown",
   "metadata": {},
   "source": [
    "## Section 2: Accessing and Manipulating Data in the Dataset"
   ]
  },
  {
   "cell_type": "code",
   "execution_count": null,
   "metadata": {},
   "outputs": [],
   "source": [
    "# Retrieve and print the dataset and specific samples\n",
    "sample_1 = dataset[1]\n",
    "print(f\"{sample_1 = }\")"
   ]
  },
  {
   "cell_type": "code",
   "execution_count": null,
   "metadata": {},
   "outputs": [],
   "source": [
    "# Access and display the value of a particular scalar within a sample\n",
    "scalar_value = sample_1.get_scalar(\"scalar_0\")\n",
    "print(\"Scalar 'scalar_0' in Sample 1:\", scalar_value)"
   ]
  },
  {
   "cell_type": "code",
   "execution_count": null,
   "metadata": {},
   "outputs": [],
   "source": [
    "# Retrieve tabular data from the dataset based on scalar names\n",
    "scalar_names = [\"scalar_1\", \"scalar_3\", \"scalar_5\"]\n",
    "tabular_data_subset = dataset.scalars.gets_to_tabular(scalar_names)\n",
    "print(\"Tabular Data Subset for Scalars 1, 3, and 5:\")\n",
    "dprint(\"tabular_data_subset\", tabular_data_subset)"
   ]
  }
 ],
 "metadata": {
  "kernelspec": {
   "display_name": "Python 3",
   "language": "python",
   "name": "python3"
  },
  "language_info": {
   "codemirror_mode": {
    "name": "ipython",
    "version": 3
   },
   "file_extension": ".py",
   "mimetype": "text/x-python",
   "name": "python",
   "nbconvert_exporter": "python",
   "pygments_lexer": "ipython3",
   "version": "3.11.5"
  }
 },
 "nbformat": 4,
 "nbformat_minor": 2
}
