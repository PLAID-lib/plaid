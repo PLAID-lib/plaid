{
 "cells": [
  {
   "cell_type": "markdown",
   "metadata": {},
   "source": [
    "# Problem Definition Examples\n",
    "\n",
    "This Jupyter Notebook demonstrates the usage of the ProblemDefinition class for defining machine learning problems using the PLAID library. It includes examples of:\n",
    "\n",
    "1. Initializing an empty ProblemDefinition\n",
    "2. Configuring problem characteristics and retrieve data\n",
    "3. Saving and loading problem definitions\n",
    "\n",
    "This notebook provides examples of using the ProblemDefinition class to define machine learning problems, configure characteristics, and save/load problem definitions.\n",
    "\n",
    "**Each section is documented and explained.**"
   ]
  },
  {
   "cell_type": "code",
   "execution_count": null,
   "metadata": {},
   "outputs": [],
   "source": [
    "# Import required libraries\n",
    "import numpy as np\n",
    "import os\n"
   ]
  },
  {
   "cell_type": "code",
   "execution_count": 2,
   "metadata": {},
   "outputs": [],
   "source": [
    "# Import necessary libraries and functions\n",
    "from plaid.containers.dataset import Dataset, Sample\n",
    "from plaid.problem_definition import ProblemDefinition\n",
    "from plaid.utils.split import split_dataset\n"
   ]
  },
  {
   "cell_type": "markdown",
   "metadata": {},
   "source": [
    "## Section 1: Initializing an Empty ProblemDefinition\n",
    "\n",
    "This section demonstrates how to initialize a Problem Definition and add inputs / outputs."
   ]
  },
  {
   "cell_type": "markdown",
   "metadata": {},
   "source": [
    "### Initialize and print ProblemDefinition"
   ]
  },
  {
   "cell_type": "code",
   "execution_count": 3,
   "metadata": {},
   "outputs": [
    {
     "name": "stdout",
     "output_type": "stream",
     "text": [
      "#---# Empty ProblemDefinition\n",
      "problem = ProblemDefinition()\n"
     ]
    }
   ],
   "source": [
    "print(\"#---# Empty ProblemDefinition\")\n",
    "problem = ProblemDefinition()\n",
    "print(f\"{problem = }\")\n"
   ]
  },
  {
   "cell_type": "markdown",
   "metadata": {},
   "source": [
    "### Add inputs / outputs to a Problem Definition"
   ]
  },
  {
   "cell_type": "code",
   "execution_count": 4,
   "metadata": {},
   "outputs": [
    {
     "name": "stdout",
     "output_type": "stream",
     "text": [
      "problem.get_input_scalars_names() = ['in', 'in2', 'in3']\n",
      "problem.get_output_scalars_names() = ['out', 'out2']\n"
     ]
    }
   ],
   "source": [
    "# Add unique input and output variables\n",
    "problem.add_input_scalar_name('in')\n",
    "problem.add_output_scalar_name('out')\n",
    "\n",
    "# Add list of input and output variables\n",
    "problem.add_input_scalars_names(['in2', 'in3'])\n",
    "problem.add_output_scalars_names(['out2'])\n",
    "\n",
    "print(f\"{problem.get_input_scalars_names() = }\")\n",
    "print(f\"{problem.get_output_scalars_names() = }\", )\n"
   ]
  },
  {
   "cell_type": "markdown",
   "metadata": {},
   "source": [
    "## Section 2: Configuring Problem Characteristics and retrieve data\n",
    "\n",
    "This section demonstrates how to handle and configure ProblemDefinition objects and access data."
   ]
  },
  {
   "cell_type": "markdown",
   "metadata": {},
   "source": [
    "### Set Problem Definition task"
   ]
  },
  {
   "cell_type": "code",
   "execution_count": 5,
   "metadata": {},
   "outputs": [
    {
     "name": "stdout",
     "output_type": "stream",
     "text": [
      "problem.get_task() = 'regression'\n"
     ]
    }
   ],
   "source": [
    "# Set the task type (e.g., regression)\n",
    "problem.set_task('regression')\n",
    "print(f\"{problem.get_task() = }\")\n"
   ]
  },
  {
   "cell_type": "markdown",
   "metadata": {},
   "source": [
    "### Set Problem Definition split"
   ]
  },
  {
   "cell_type": "code",
   "execution_count": 6,
   "metadata": {},
   "outputs": [
    {
     "name": "stdout",
     "output_type": "stream",
     "text": [
      "dataset = Dataset(0 samples, 0 scalars, 0 fields)\n",
      "dataset = Dataset(4 samples, 0 scalars, 0 fields)\n"
     ]
    }
   ],
   "source": [
    "# Init an empty Dataset\n",
    "dataset = Dataset()\n",
    "print(f\"{dataset = }\")\n",
    "\n",
    "# Add Samples\n",
    "dataset.add_samples([Sample(), Sample(), Sample(), Sample()])\n",
    "print(f\"{dataset = }\")\n"
   ]
  },
  {
   "cell_type": "code",
   "execution_count": 7,
   "metadata": {},
   "outputs": [
    {
     "name": "stdout",
     "output_type": "stream",
     "text": [
      "split = {'train': [0, 1], 'val': [2], 'other': [3]}\n"
     ]
    }
   ],
   "source": [
    "# Set startegy options for the split\n",
    "options = {\n",
    "    'shuffle': False,\n",
    "    'split_sizes': {\n",
    "        'train': 2,\n",
    "        'val': 1,\n",
    "    },\n",
    "}\n",
    "\n",
    "split = split_dataset(dataset, options)\n",
    "print(f\"{split = }\")\n"
   ]
  },
  {
   "cell_type": "code",
   "execution_count": 8,
   "metadata": {},
   "outputs": [
    {
     "name": "stdout",
     "output_type": "stream",
     "text": [
      "problem.get_split() = {'train': [0, 1], 'val': [2], 'other': [3]}\n"
     ]
    }
   ],
   "source": [
    "problem.set_split(split)\n",
    "print(f\"{problem.get_split() = }\")\n"
   ]
  },
  {
   "cell_type": "markdown",
   "metadata": {},
   "source": [
    "### Retrieves Problem Definition split indices"
   ]
  },
  {
   "cell_type": "code",
   "execution_count": 9,
   "metadata": {},
   "outputs": [
    {
     "name": "stdout",
     "output_type": "stream",
     "text": [
      "problem.get_all_indices() = [0, 1, 2, 3]\n"
     ]
    }
   ],
   "source": [
    "# Get all split indices\n",
    "print(f\"{problem.get_all_indices() = }\")\n"
   ]
  },
  {
   "cell_type": "markdown",
   "metadata": {},
   "source": [
    "### Filter Problem Definition inputs / outputs by name"
   ]
  },
  {
   "cell_type": "code",
   "execution_count": 10,
   "metadata": {},
   "outputs": [
    {
     "ename": "AttributeError",
     "evalue": "'ProblemDefinition' object has no attribute 'filter_input_names'",
     "output_type": "error",
     "traceback": [
      "\u001b[0;31m---------------------------------------------------------------------------\u001b[0m",
      "\u001b[0;31mAttributeError\u001b[0m                            Traceback (most recent call last)",
      "\u001b[1;32m/data/users/xroynard/Code/travaux/plaid/docs/source/notebooks/problem_definition.ipynb Cell 19\u001b[0m line \u001b[0;36m1\n\u001b[0;32m----> <a href='vscode-notebook-cell://ssh-remote%2Brosetta-c4140gpu/data/users/xroynard/Code/travaux/plaid/docs/source/notebooks/problem_definition.ipynb#X24sdnNjb2RlLXJlbW90ZQ%3D%3D?line=0'>1</a>\u001b[0m \u001b[39mprint\u001b[39m(\u001b[39mf\u001b[39m\u001b[39m\"\u001b[39m\u001b[39m{\u001b[39;00mproblem\u001b[39m.\u001b[39;49mfilter_input_names([\u001b[39m'\u001b[39m\u001b[39min\u001b[39m\u001b[39m'\u001b[39m,\u001b[39m \u001b[39m\u001b[39m'\u001b[39m\u001b[39min3\u001b[39m\u001b[39m'\u001b[39m,\u001b[39m \u001b[39m\u001b[39m'\u001b[39m\u001b[39min5\u001b[39m\u001b[39m'\u001b[39m])\u001b[39m \u001b[39m\u001b[39m= }\u001b[39;00m\u001b[39m\"\u001b[39m)\n\u001b[1;32m      <a href='vscode-notebook-cell://ssh-remote%2Brosetta-c4140gpu/data/users/xroynard/Code/travaux/plaid/docs/source/notebooks/problem_definition.ipynb#X24sdnNjb2RlLXJlbW90ZQ%3D%3D?line=1'>2</a>\u001b[0m \u001b[39mprint\u001b[39m(\u001b[39mf\u001b[39m\u001b[39m\"\u001b[39m\u001b[39m{\u001b[39;00mproblem\u001b[39m.\u001b[39mfilter_output_names([\u001b[39m'\u001b[39m\u001b[39mout\u001b[39m\u001b[39m'\u001b[39m,\u001b[39m \u001b[39m\u001b[39m'\u001b[39m\u001b[39mout3\u001b[39m\u001b[39m'\u001b[39m,\u001b[39m \u001b[39m\u001b[39m'\u001b[39m\u001b[39mout5\u001b[39m\u001b[39m'\u001b[39m])\u001b[39m \u001b[39m\u001b[39m= }\u001b[39;00m\u001b[39m\"\u001b[39m)\n",
      "\u001b[0;31mAttributeError\u001b[0m: 'ProblemDefinition' object has no attribute 'filter_input_names'"
     ]
    }
   ],
   "source": [
    "print(f\"{problem.filter_input_scalars_names(['in', 'in3', 'in5']) = }\")\n",
    "print(f\"{problem.filter_output_scalars_names(['out', 'out3', 'out5']) = }\")\n"
   ]
  },
  {
   "cell_type": "markdown",
   "metadata": {},
   "source": [
    "## Section 3: Saving and Loading Problem Definitions\n",
    "\n",
    "This section demonstrates how to save and load a Problem Definition from a directory."
   ]
  },
  {
   "cell_type": "markdown",
   "metadata": {},
   "source": [
    "### Save a Problem Definition to a directory"
   ]
  },
  {
   "cell_type": "code",
   "execution_count": null,
   "metadata": {},
   "outputs": [],
   "source": [
    "test_pth = f\"/tmp/test_safe_to_delete_{np.random.randint(1e10, 1e12)}\"\n",
    "pb_def_save_fname = os.path.join(test_pth, 'test')\n",
    "os.makedirs(test_pth)\n",
    "print(f\"saving path: {pb_def_save_fname}\")\n",
    "\n",
    "problem._save_to_dir_(pb_def_save_fname)\n"
   ]
  },
  {
   "cell_type": "markdown",
   "metadata": {},
   "source": [
    "### Load a ProblemDefinition from a directory via initialization"
   ]
  },
  {
   "cell_type": "code",
   "execution_count": null,
   "metadata": {},
   "outputs": [],
   "source": [
    "problem = ProblemDefinition(pb_def_save_fname)\n",
    "print(problem)\n"
   ]
  },
  {
   "cell_type": "markdown",
   "metadata": {},
   "source": [
    "### Load from a directory via the ProblemDefinition class"
   ]
  },
  {
   "cell_type": "code",
   "execution_count": null,
   "metadata": {},
   "outputs": [],
   "source": [
    "problem = ProblemDefinition.load(pb_def_save_fname)\n",
    "print(problem)\n"
   ]
  },
  {
   "cell_type": "markdown",
   "metadata": {},
   "source": [
    "### Load from a directory via a Dataset instance"
   ]
  },
  {
   "cell_type": "code",
   "execution_count": null,
   "metadata": {},
   "outputs": [],
   "source": [
    "problem = ProblemDefinition()\n",
    "problem._load_from_dir_(pb_def_save_fname)\n",
    "print(problem)\n"
   ]
  }
 ],
 "metadata": {
  "kernelspec": {
   "display_name": "Python 3",
   "language": "python",
   "name": "python3"
  },
  "language_info": {
   "codemirror_mode": {
    "name": "ipython",
    "version": 3
   },
   "file_extension": ".py",
   "mimetype": "text/x-python",
   "name": "python",
   "nbconvert_exporter": "python",
   "pygments_lexer": "ipython3",
   "version": "3.11.6"
  }
 },
 "nbformat": 4,
 "nbformat_minor": 2
}
