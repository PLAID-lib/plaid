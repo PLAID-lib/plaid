{
 "cells": [
  {
   "cell_type": "markdown",
   "metadata": {},
   "source": [
    "# Statistics Calculation Examples\n",
    "\n",
    "1. OnlineStatistics Class:\n",
    "- Initialize an OnlineStatistics object.\n",
    "- Calculate statistics for an empty dataset.\n",
    "- Add the first batch of samples and update statistics.\n",
    "- Add the second batch of samples and update statistics.\n",
    "- Combine and recompute statistics for all samples.\n",
    "\n",
    "2. Stats Class:\n",
    "- Initialize a Stats object to collect statistics.\n",
    "- Create and add samples with scalar and field data.\n",
    "- Retrieve and display the calculated statistics.\n",
    "- Add more samples with varying field sizes and update statistics.\n",
    "- Retrieve and display the updated statistics.\n",
    "\n",
    "This notebook provides examples of using the OnlineStatistics and Stats classes to compute statistics from sample data, including scalars and fields. It demonstrates the functionality and usage of these classes.\n",
    "\n",
    "**Each section is documented and explained.**"
   ]
  },
  {
   "cell_type": "code",
   "execution_count": 2,
   "metadata": {},
   "outputs": [],
   "source": [
    "# Import required libraries\n",
    "import rich\n",
    "import numpy as np"
   ]
  },
  {
   "cell_type": "code",
   "execution_count": 3,
   "metadata": {},
   "outputs": [],
   "source": [
    "# Import necessary libraries and functions\n",
    "from plaid.containers.sample import Sample\n",
    "from plaid.utils.stats import OnlineStatistics, Stats"
   ]
  },
  {
   "cell_type": "code",
   "execution_count": 4,
   "metadata": {},
   "outputs": [],
   "source": [
    "def sprint(stats: dict):\n",
    "    print(\"Stats:\")\n",
    "    for k in stats:\n",
    "        print(\" - {} -> {}\".format(k, stats[k]))"
   ]
  },
  {
   "cell_type": "markdown",
   "metadata": {},
   "source": [
    "## Section 1: OnlineStatistics Class\n",
    "\n",
    "In this section, we demonstrate the usage of the OnlineStatistics class. We initialize an OnlineStatistics object and calculate statistics for an empty dataset. Then, we add the first and second batches of samples and update the statistics. Finally, we combine and recompute statistics for all samples."
   ]
  },
  {
   "cell_type": "markdown",
   "metadata": {},
   "source": [
    "### Initialize and empty OnlineStatistics"
   ]
  },
  {
   "cell_type": "code",
   "execution_count": 5,
   "metadata": {},
   "outputs": [
    {
     "name": "stdout",
     "output_type": "stream",
     "text": [
      "#---# Initialize OnlineStatistics\n",
      "Stats:\n",
      " - n_samples -> 0\n",
      " - min -> None\n",
      " - max -> None\n",
      " - mean -> None\n",
      " - var -> None\n",
      " - std -> None\n"
     ]
    }
   ],
   "source": [
    "print(f\"#---# Initialize OnlineStatistics\")\n",
    "stats_computer = OnlineStatistics()\n",
    "stats = stats_computer.get_stats()\n",
    "\n",
    "sprint(stats)"
   ]
  },
  {
   "cell_type": "markdown",
   "metadata": {},
   "source": [
    "### Add sample batches"
   ]
  },
  {
   "cell_type": "code",
   "execution_count": 6,
   "metadata": {},
   "outputs": [
    {
     "name": "stdout",
     "output_type": "stream",
     "text": [
      "first_batch_samples.shape = (100, 3)\n",
      "Stats:\n",
      " - n_samples -> 100\n",
      " - min -> [[1.86632985 3.03277155 2.77547689]]\n",
      " - max -> [[16.46280187 20.85886952 17.91500436]]\n",
      " - mean -> [[10.21967704  9.97272787 10.72420851]]\n",
      " - var -> [[ 9.0680645  11.25790274  8.21024666]]\n",
      " - std -> [[3.01132272 3.35527983 2.8653528 ]]\n"
     ]
    }
   ],
   "source": [
    "# First batch of samples\n",
    "first_batch_samples = 3.0 * np.random.randn(100, 3) + 10.0\n",
    "print(f\"{first_batch_samples.shape = }\")\n",
    "\n",
    "stats_computer.add_samples(first_batch_samples)\n",
    "stats = stats_computer.get_stats()\n",
    "\n",
    "sprint(stats)"
   ]
  },
  {
   "cell_type": "code",
   "execution_count": 7,
   "metadata": {},
   "outputs": [
    {
     "name": "stdout",
     "output_type": "stream",
     "text": [
      "second_batch_samples.shape = (1000, 3)\n",
      "Stats:\n",
      " - n_samples -> [[3300]]\n",
      " - min -> [-45.1108186  -40.90476966 -30.05972554]\n",
      " - max -> [30.01869299 29.46633866 33.35001506]\n",
      " - mean -> [[0.00447148]]\n",
      " - var -> [[105.10222521]]\n",
      " - std -> [[10.25193763]]\n"
     ]
    }
   ],
   "source": [
    "second_batch_samples = 10.0 * np.random.randn(1000, 3) - 1.0\n",
    "print(f\"{second_batch_samples.shape = }\")\n",
    "\n",
    "stats_computer.add_samples(second_batch_samples)\n",
    "stats = stats_computer.get_stats()\n",
    "\n",
    "sprint(stats)"
   ]
  },
  {
   "cell_type": "markdown",
   "metadata": {},
   "source": [
    "### Combine and recompute statistics"
   ]
  },
  {
   "cell_type": "code",
   "execution_count": 8,
   "metadata": {},
   "outputs": [
    {
     "name": "stdout",
     "output_type": "stream",
     "text": [
      "total_samples.shape = (1100, 3)\n",
      "Stats:\n",
      " - n_samples -> 1100\n",
      " - min -> [[-45.1108186  -40.90476966 -30.05972554]]\n",
      " - max -> [[30.01869299 29.46633866 33.35001506]]\n",
      " - mean -> [[ 0.24692415 -0.04078101 -0.19272871]]\n",
      " - var -> [[105.87634979 108.31276178 101.01784505]]\n",
      " - std -> [[10.2896234  10.40734172 10.05076341]]\n"
     ]
    }
   ],
   "source": [
    "total_samples = np.concatenate((first_batch_samples, second_batch_samples), axis=0)\n",
    "print(f\"{total_samples.shape = }\")\n",
    "\n",
    "new_stats_computer = OnlineStatistics()\n",
    "new_stats_computer.add_samples(total_samples)\n",
    "stats = new_stats_computer.get_stats()\n",
    "\n",
    "sprint(stats)"
   ]
  },
  {
   "cell_type": "markdown",
   "metadata": {},
   "source": [
    "## Section 2: Stats Class\n",
    "\n",
    "In this section, we explore the Stats class. We initialize a Stats object to collect statistics, create and add samples with scalar and field data. We retrieve and display the calculated statistics. We also add more samples with varying field sizes and update the statistics, followed by retrieving and displaying the updated statistics."
   ]
  },
  {
   "cell_type": "markdown",
   "metadata": {},
   "source": [
    "### Initalize an empty Stats object"
   ]
  },
  {
   "cell_type": "code",
   "execution_count": 9,
   "metadata": {},
   "outputs": [
    {
     "name": "stdout",
     "output_type": "stream",
     "text": [
      "#---# Initialize Stats\n",
      "stats.get_stats() = {}\n"
     ]
    }
   ],
   "source": [
    "print(f\"#---# Initialize Stats\")\n",
    "stats = Stats()\n",
    "print(f\"{stats.get_stats() = }\")"
   ]
  },
  {
   "cell_type": "markdown",
   "metadata": {},
   "source": [
    "### Feed Stats with Samples"
   ]
  },
  {
   "cell_type": "code",
   "execution_count": 10,
   "metadata": {},
   "outputs": [
    {
     "name": "stdout",
     "output_type": "stream",
     "text": [
      "#---# Feed Stats with samples\n"
     ]
    }
   ],
   "source": [
    "print(f\"#---# Feed Stats with samples\")\n",
    "\n",
    "# Init 11 samples\n",
    "nb_samples = 11\n",
    "samples = [Sample() for _ in range(nb_samples)]\n",
    "\n",
    "spatial_shape_max = 20\n",
    "#\n",
    "for sample in samples:\n",
    "    sample.add_scalar('test_scalar', np.random.randn())\n",
    "    sample.init_base(2, 3, 'test_base')\n",
    "    zone_shape = np.array([0, 0, 0])\n",
    "    sample.init_zone('test_zone', zone_shape)\n",
    "    sample.add_field('test_field', np.random.randn(spatial_shape_max))\n",
    "\n",
    "stats.add_samples(samples)"
   ]
  },
  {
   "cell_type": "markdown",
   "metadata": {},
   "source": [
    "### Get and print stats"
   ]
  },
  {
   "cell_type": "code",
   "execution_count": 11,
   "metadata": {},
   "outputs": [
    {
     "data": {
      "text/html": [
       "<pre style=\"white-space:pre;overflow-x:auto;line-height:normal;font-family:Menlo,'DejaVu Sans Mono',consolas,'Courier New',monospace\"><span style=\"color: #800080; text-decoration-color: #800080; font-weight: bold\">stats.get_stats</span><span style=\"font-weight: bold\">()</span>:\n",
       "</pre>\n"
      ],
      "text/plain": [
       "\u001b[1;35mstats.get_stats\u001b[0m\u001b[1m(\u001b[0m\u001b[1m)\u001b[0m:\n"
      ]
     },
     "metadata": {},
     "output_type": "display_data"
    },
    {
     "data": {
      "text/html": [
       "<pre style=\"white-space:pre;overflow-x:auto;line-height:normal;font-family:Menlo,'DejaVu Sans Mono',consolas,'Courier New',monospace\"><span style=\"font-weight: bold\">{</span>\n",
       "    <span style=\"color: #008000; text-decoration-color: #008000\">'test_scalar'</span>: <span style=\"font-weight: bold\">{</span>\n",
       "        <span style=\"color: #008000; text-decoration-color: #008000\">'n_samples'</span>: <span style=\"color: #800080; text-decoration-color: #800080; font-weight: bold\">array</span><span style=\"font-weight: bold\">(</span><span style=\"color: #008080; text-decoration-color: #008080; font-weight: bold\">11</span><span style=\"font-weight: bold\">)</span>,\n",
       "        <span style=\"color: #008000; text-decoration-color: #008000\">'min'</span>: <span style=\"color: #800080; text-decoration-color: #800080; font-weight: bold\">array</span><span style=\"font-weight: bold\">(</span><span style=\"color: #008080; text-decoration-color: #008080; font-weight: bold\">-1.39793483</span><span style=\"font-weight: bold\">)</span>,\n",
       "        <span style=\"color: #008000; text-decoration-color: #008000\">'max'</span>: <span style=\"color: #800080; text-decoration-color: #800080; font-weight: bold\">array</span><span style=\"font-weight: bold\">(</span><span style=\"color: #008080; text-decoration-color: #008080; font-weight: bold\">2.46214931</span><span style=\"font-weight: bold\">)</span>,\n",
       "        <span style=\"color: #008000; text-decoration-color: #008000\">'mean'</span>: <span style=\"color: #800080; text-decoration-color: #800080; font-weight: bold\">array</span><span style=\"font-weight: bold\">(</span><span style=\"color: #008080; text-decoration-color: #008080; font-weight: bold\">0.21800127</span><span style=\"font-weight: bold\">)</span>,\n",
       "        <span style=\"color: #008000; text-decoration-color: #008000\">'var'</span>: <span style=\"color: #800080; text-decoration-color: #800080; font-weight: bold\">array</span><span style=\"font-weight: bold\">(</span><span style=\"color: #008080; text-decoration-color: #008080; font-weight: bold\">1.23497551</span><span style=\"font-weight: bold\">)</span>,\n",
       "        <span style=\"color: #008000; text-decoration-color: #008000\">'std'</span>: <span style=\"color: #800080; text-decoration-color: #800080; font-weight: bold\">array</span><span style=\"font-weight: bold\">(</span><span style=\"color: #008080; text-decoration-color: #008080; font-weight: bold\">1.11129452</span><span style=\"font-weight: bold\">)</span>\n",
       "    <span style=\"font-weight: bold\">}</span>\n",
       "<span style=\"font-weight: bold\">}</span>\n",
       "</pre>\n"
      ],
      "text/plain": [
       "\u001b[1m{\u001b[0m\n",
       "    \u001b[32m'test_scalar'\u001b[0m: \u001b[1m{\u001b[0m\n",
       "        \u001b[32m'n_samples'\u001b[0m: \u001b[1;35marray\u001b[0m\u001b[1m(\u001b[0m\u001b[1;36m11\u001b[0m\u001b[1m)\u001b[0m,\n",
       "        \u001b[32m'min'\u001b[0m: \u001b[1;35marray\u001b[0m\u001b[1m(\u001b[0m\u001b[1;36m-1.39793483\u001b[0m\u001b[1m)\u001b[0m,\n",
       "        \u001b[32m'max'\u001b[0m: \u001b[1;35marray\u001b[0m\u001b[1m(\u001b[0m\u001b[1;36m2.46214931\u001b[0m\u001b[1m)\u001b[0m,\n",
       "        \u001b[32m'mean'\u001b[0m: \u001b[1;35marray\u001b[0m\u001b[1m(\u001b[0m\u001b[1;36m0.21800127\u001b[0m\u001b[1m)\u001b[0m,\n",
       "        \u001b[32m'var'\u001b[0m: \u001b[1;35marray\u001b[0m\u001b[1m(\u001b[0m\u001b[1;36m1.23497551\u001b[0m\u001b[1m)\u001b[0m,\n",
       "        \u001b[32m'std'\u001b[0m: \u001b[1;35marray\u001b[0m\u001b[1m(\u001b[0m\u001b[1;36m1.11129452\u001b[0m\u001b[1m)\u001b[0m\n",
       "    \u001b[1m}\u001b[0m\n",
       "\u001b[1m}\u001b[0m\n"
      ]
     },
     "metadata": {},
     "output_type": "display_data"
    }
   ],
   "source": [
    "rich.print(f\"stats.get_stats():\")\n",
    "rich.print(stats.get_stats())"
   ]
  },
  {
   "cell_type": "markdown",
   "metadata": {},
   "source": [
    "### Feed Stats with more Samples"
   ]
  },
  {
   "cell_type": "code",
   "execution_count": 12,
   "metadata": {},
   "outputs": [],
   "source": [
    "nb_samples = 11\n",
    "spatial_shape_max = 20\n",
    "samples = [Sample() for _ in range(nb_samples)]\n",
    "\n",
    "for sample in samples:\n",
    "    sample.add_scalar('test_scalar', np.random.randn())\n",
    "    sample.init_base(2, 3, 'test_base')\n",
    "    zone_shape = np.array([0, 0, 0])\n",
    "    sample.init_zone('test_zone', zone_shape)\n",
    "    sample.add_field('test_field_same_size', np.random.randn(7))\n",
    "    sample.add_field(\n",
    "        'test_field',\n",
    "        np.random.randn(\n",
    "            np.random.randint(\n",
    "                spatial_shape_max // 2,\n",
    "                spatial_shape_max)))\n",
    "\n",
    "stats.add_samples(samples)"
   ]
  },
  {
   "cell_type": "markdown",
   "metadata": {},
   "source": [
    "### Get and print stats"
   ]
  },
  {
   "cell_type": "code",
   "execution_count": 13,
   "metadata": {},
   "outputs": [
    {
     "data": {
      "text/html": [
       "<pre style=\"white-space:pre;overflow-x:auto;line-height:normal;font-family:Menlo,'DejaVu Sans Mono',consolas,'Courier New',monospace\"><span style=\"color: #800080; text-decoration-color: #800080; font-weight: bold\">stats.get_stats</span><span style=\"font-weight: bold\">()</span>:\n",
       "</pre>\n"
      ],
      "text/plain": [
       "\u001b[1;35mstats.get_stats\u001b[0m\u001b[1m(\u001b[0m\u001b[1m)\u001b[0m:\n"
      ]
     },
     "metadata": {},
     "output_type": "display_data"
    },
    {
     "data": {
      "text/html": [
       "<pre style=\"white-space:pre;overflow-x:auto;line-height:normal;font-family:Menlo,'DejaVu Sans Mono',consolas,'Courier New',monospace\"><span style=\"font-weight: bold\">{</span>\n",
       "    <span style=\"color: #008000; text-decoration-color: #008000\">'test_scalar'</span>: <span style=\"font-weight: bold\">{</span>\n",
       "        <span style=\"color: #008000; text-decoration-color: #008000\">'n_samples'</span>: <span style=\"color: #800080; text-decoration-color: #800080; font-weight: bold\">array</span><span style=\"font-weight: bold\">(</span><span style=\"color: #008080; text-decoration-color: #008080; font-weight: bold\">22</span><span style=\"font-weight: bold\">)</span>,\n",
       "        <span style=\"color: #008000; text-decoration-color: #008000\">'min'</span>: <span style=\"color: #800080; text-decoration-color: #800080; font-weight: bold\">array</span><span style=\"font-weight: bold\">(</span><span style=\"color: #008080; text-decoration-color: #008080; font-weight: bold\">-2.01064104</span><span style=\"font-weight: bold\">)</span>,\n",
       "        <span style=\"color: #008000; text-decoration-color: #008000\">'max'</span>: <span style=\"color: #800080; text-decoration-color: #800080; font-weight: bold\">array</span><span style=\"font-weight: bold\">(</span><span style=\"color: #008080; text-decoration-color: #008080; font-weight: bold\">2.46214931</span><span style=\"font-weight: bold\">)</span>,\n",
       "        <span style=\"color: #008000; text-decoration-color: #008000\">'mean'</span>: <span style=\"color: #800080; text-decoration-color: #800080; font-weight: bold\">array</span><span style=\"font-weight: bold\">(</span><span style=\"color: #008080; text-decoration-color: #008080; font-weight: bold\">0.04701997</span><span style=\"font-weight: bold\">)</span>,\n",
       "        <span style=\"color: #008000; text-decoration-color: #008000\">'var'</span>: <span style=\"color: #800080; text-decoration-color: #800080; font-weight: bold\">array</span><span style=\"font-weight: bold\">(</span><span style=\"color: #008080; text-decoration-color: #008080; font-weight: bold\">1.04963174</span><span style=\"font-weight: bold\">)</span>,\n",
       "        <span style=\"color: #008000; text-decoration-color: #008000\">'std'</span>: <span style=\"color: #800080; text-decoration-color: #800080; font-weight: bold\">array</span><span style=\"font-weight: bold\">(</span><span style=\"color: #008080; text-decoration-color: #008080; font-weight: bold\">1.02451537</span><span style=\"font-weight: bold\">)</span>\n",
       "    <span style=\"font-weight: bold\">}</span>\n",
       "<span style=\"font-weight: bold\">}</span>\n",
       "</pre>\n"
      ],
      "text/plain": [
       "\u001b[1m{\u001b[0m\n",
       "    \u001b[32m'test_scalar'\u001b[0m: \u001b[1m{\u001b[0m\n",
       "        \u001b[32m'n_samples'\u001b[0m: \u001b[1;35marray\u001b[0m\u001b[1m(\u001b[0m\u001b[1;36m22\u001b[0m\u001b[1m)\u001b[0m,\n",
       "        \u001b[32m'min'\u001b[0m: \u001b[1;35marray\u001b[0m\u001b[1m(\u001b[0m\u001b[1;36m-2.01064104\u001b[0m\u001b[1m)\u001b[0m,\n",
       "        \u001b[32m'max'\u001b[0m: \u001b[1;35marray\u001b[0m\u001b[1m(\u001b[0m\u001b[1;36m2.46214931\u001b[0m\u001b[1m)\u001b[0m,\n",
       "        \u001b[32m'mean'\u001b[0m: \u001b[1;35marray\u001b[0m\u001b[1m(\u001b[0m\u001b[1;36m0.04701997\u001b[0m\u001b[1m)\u001b[0m,\n",
       "        \u001b[32m'var'\u001b[0m: \u001b[1;35marray\u001b[0m\u001b[1m(\u001b[0m\u001b[1;36m1.04963174\u001b[0m\u001b[1m)\u001b[0m,\n",
       "        \u001b[32m'std'\u001b[0m: \u001b[1;35marray\u001b[0m\u001b[1m(\u001b[0m\u001b[1;36m1.02451537\u001b[0m\u001b[1m)\u001b[0m\n",
       "    \u001b[1m}\u001b[0m\n",
       "\u001b[1m}\u001b[0m\n"
      ]
     },
     "metadata": {},
     "output_type": "display_data"
    }
   ],
   "source": [
    "rich.print(f\"stats.get_stats():\")\n",
    "rich.print(stats.get_stats())"
   ]
  }
 ],
 "metadata": {
  "kernelspec": {
   "display_name": "Python 3",
   "language": "python",
   "name": "python3"
  },
  "language_info": {
   "codemirror_mode": {
    "name": "ipython",
    "version": 3
   },
   "file_extension": ".py",
   "mimetype": "text/x-python",
   "name": "python",
   "nbconvert_exporter": "python",
   "pygments_lexer": "ipython3",
   "version": "3.11.5"
  }
 },
 "nbformat": 4,
 "nbformat_minor": 2
}
