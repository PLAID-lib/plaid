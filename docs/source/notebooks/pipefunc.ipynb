{
 "cells": [
  {
   "cell_type": "code",
   "execution_count": null,
   "id": "cfe24230",
   "metadata": {},
   "outputs": [],
   "source": [
    "import warnings\n",
    "warnings.filterwarnings('ignore', module='sklearn')\n",
    "warnings.filterwarnings(\"ignore\", message=\".*IProgress not found.*\")\n",
    "\n",
    "import os\n",
    "from pathlib import Path\n",
    "\n",
    "import yaml\n",
    "import numpy as np\n",
    "import optuna\n",
    "\n",
    "from datasets.utils.logging import disable_progress_bar\n",
    "from datasets import load_dataset\n",
    "\n",
    "from sklearn.base import clone\n",
    "from pipefunc import Pipeline, pipefunc\n",
    "\n",
    "from sklearn.decomposition import PCA\n",
    "from sklearn.preprocessing import MinMaxScaler\n",
    "from sklearn.gaussian_process import GaussianProcessRegressor\n",
    "from sklearn.gaussian_process.kernels import Matern\n",
    "from sklearn.multioutput import MultiOutputRegressor\n",
    "\n",
    "from sklearn.model_selection import KFold, GridSearchCV\n",
    "\n",
    "from plaid.bridges.huggingface_bridge import huggingface_dataset_to_plaid, huggingface_description_to_problem_definition\n",
    "from plaid.pipelines.sklearn_block_wrappers import WrappedPlaidSklearnTransformer, WrappedPlaidSklearnRegressor\n",
    "from plaid.pipelines.plaid_blocks import PlaidTransformedTargetRegressor, PlaidColumnTransformer\n",
    "\n",
    "disable_progress_bar()\n",
    "n_processes = min(max(1, os.cpu_count()), 6)\n"
   ]
  },
  {
   "cell_type": "code",
   "execution_count": null,
   "id": "559881df",
   "metadata": {},
   "outputs": [],
   "source": [
    "hf_dataset = load_dataset(\"PLAID-datasets/VKI-LS59\", split=\"all_samples[:24]\")\n",
    "dataset_train, _ = huggingface_dataset_to_plaid(hf_dataset, processes_number = n_processes, verbose = False)"
   ]
  },
  {
   "cell_type": "code",
   "execution_count": null,
   "id": "bcceca90",
   "metadata": {},
   "outputs": [],
   "source": [
    "try:\n",
    "    filename = Path(__file__).parent.parent.parent / \"docs\" / \"source\" / \"notebooks\" / \"config_pipeline.yml\"\n",
    "except NameError:\n",
    "    filename = \"config_pipeline.yml\"\n",
    "\n",
    "with open(filename, 'r') as f:\n",
    "    config = yaml.safe_load(f)\n",
    "\n",
    "all_feature_id = config['input_scalar_scaler']['in_features_identifiers'] +\\\n",
    "    config['pca_nodes']['in_features_identifiers'] + config['pca_mach']['in_features_identifiers']"
   ]
  },
  {
   "cell_type": "code",
   "execution_count": null,
   "id": "580f82cf",
   "metadata": {},
   "outputs": [],
   "source": [
    "preprocessor = PlaidColumnTransformer(\n",
    "    [\n",
    "        ('input_scalar_scaler', WrappedPlaidSklearnTransformer(MinMaxScaler(), **config['input_scalar_scaler'])),\n",
    "        ('pca_nodes', WrappedPlaidSklearnTransformer(PCA(), **config['pca_nodes'])),\n",
    "    ]\n",
    ")\n",
    "preprocessor"
   ]
  },
  {
   "cell_type": "code",
   "execution_count": null,
   "id": "83884797",
   "metadata": {},
   "outputs": [],
   "source": [
    "postprocessor = WrappedPlaidSklearnTransformer(PCA(), **config['pca_mach'])\n",
    "postprocessor"
   ]
  },
  {
   "cell_type": "code",
   "execution_count": null,
   "id": "fb99330f",
   "metadata": {},
   "outputs": [],
   "source": [
    "kernel = Matern(length_scale_bounds=(1e-8, 1e8), nu = 2.5)\n",
    "\n",
    "gpr = GaussianProcessRegressor(\n",
    "    kernel=kernel,\n",
    "    optimizer='fmin_l_bfgs_b',\n",
    "    n_restarts_optimizer=1,\n",
    "    random_state=42)\n",
    "\n",
    "reg = MultiOutputRegressor(gpr)\n",
    "\n",
    "def length_scale_init(X):\n",
    "    return np.ones(X.shape[1])\n",
    "\n",
    "dynamics_params_factory = {'estimator__kernel__length_scale':length_scale_init}\n",
    "\n",
    "regressor = WrappedPlaidSklearnRegressor(reg, **config['regressor_mach'], dynamics_params_factory = dynamics_params_factory)\n",
    "\n",
    "target_regressor = PlaidTransformedTargetRegressor(\n",
    "    regressor=regressor,\n",
    "    transformer=postprocessor\n",
    ")\n",
    "target_regressor"
   ]
  },
  {
   "cell_type": "code",
   "execution_count": null,
   "id": "dbf12fba",
   "metadata": {},
   "outputs": [],
   "source": []
  },
  {
   "cell_type": "code",
   "execution_count": null,
   "id": "a7eb3275",
   "metadata": {},
   "outputs": [],
   "source": [
    "@pipefunc(output_name=\"preprocessed_dataset\")\n",
    "def preprocess(dataset):\n",
    "    return preprocessor.fit_transform(dataset)\n",
    "\n",
    "@pipefunc(output_name=\"fitted_regressor\")\n",
    "def regress(preprocessed_dataset):\n",
    "    return target_regressor.fit(preprocessed_dataset)\n",
    "\n",
    "pipeline_train = Pipeline(\n",
    "    [preprocess, regress],\n",
    "    debug=True,  # optionally print debug information\n",
    "    profile=True,  # optionally profile the pipeline\n",
    "    cache_type=\"hybrid\",  # optionally cache the pipeline\n",
    ")\n",
    "\n",
    "\n"
   ]
  },
  {
   "cell_type": "code",
   "execution_count": null,
   "id": "a7264875",
   "metadata": {},
   "outputs": [],
   "source": [
    "pipeline_train(dataset=dataset_train)"
   ]
  },
  {
   "cell_type": "code",
   "execution_count": null,
   "id": "850aeb8b",
   "metadata": {},
   "outputs": [],
   "source": [
    "print(\"Graph nodes:\", pipeline_train.graph.nodes)\n",
    "pipeline_train.visualize()"
   ]
  },
  {
   "cell_type": "code",
   "execution_count": null,
   "id": "774f83ab",
   "metadata": {},
   "outputs": [],
   "source": [
    "@pipefunc(output_name=\"c\")\n",
    "def f(a, b):\n",
    "    return a + b\n",
    "\n",
    "\n",
    "@pipefunc(output_name=\"d\")\n",
    "def g(b, c, x=1):  # \"c\" is the output of f\n",
    "    return b * c * x\n",
    "\n",
    "\n",
    "@pipefunc(output_name=\"e\")\n",
    "def h(c, d, x=1):  # \"d\" is the output of g\n",
    "    return c * d * x"
   ]
  },
  {
   "cell_type": "code",
   "execution_count": null,
   "id": "a2534037",
   "metadata": {},
   "outputs": [],
   "source": [
    "pipeline = Pipeline(\n",
    "    [f, g, h],\n",
    "    debug=True,  # optionally print debug information\n",
    "    profile=True,  # optionally profile the pipeline\n",
    "    cache_type=\"hybrid\",  # optionally cache the pipeline\n",
    ")"
   ]
  },
  {
   "cell_type": "code",
   "execution_count": null,
   "id": "67b8b1ae",
   "metadata": {},
   "outputs": [],
   "source": [
    "pipeline(a=1, b=2)"
   ]
  },
  {
   "cell_type": "code",
   "execution_count": null,
   "id": "81b1606e",
   "metadata": {},
   "outputs": [],
   "source": []
  }
 ],
 "metadata": {
  "kernelspec": {
   "display_name": "plaid-dev",
   "language": "python",
   "name": "python3"
  },
  "language_info": {
   "codemirror_mode": {
    "name": "ipython",
    "version": 3
   },
   "file_extension": ".py",
   "mimetype": "text/x-python",
   "name": "python",
   "nbconvert_exporter": "python",
   "pygments_lexer": "ipython3",
   "version": "3.11.13"
  }
 },
 "nbformat": 4,
 "nbformat_minor": 5
}
