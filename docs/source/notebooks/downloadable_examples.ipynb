{
 "cells": [
  {
   "cell_type": "markdown",
   "metadata": {},
   "source": [
    "# Downloadable examples\n",
    "\n",
    "This Jupyter Notebook show how to easily retrieve advanced examples online.\n",
    "\n",
    "1. Datasets\n",
    "2. Samples"
   ]
  },
  {
   "cell_type": "code",
   "execution_count": 1,
   "metadata": {},
   "outputs": [],
   "source": [
    "import warnings\n",
    "warnings.filterwarnings(\"ignore\", message=\".*IProgress not found.*\")"
   ]
  },
  {
   "cell_type": "markdown",
   "metadata": {},
   "source": [
    "## Section 1: Datasets"
   ]
  },
  {
   "cell_type": "markdown",
   "metadata": {},
   "source": [
    "Retrieving advanded datasets examples is as easy as:"
   ]
  },
  {
   "cell_type": "code",
   "execution_count": 2,
   "metadata": {},
   "outputs": [
    {
     "name": "stdout",
     "output_type": "stream",
     "text": [
      "['vki_ls59', 'elastoplastodynamics', 'multiscale_hyperelasticity', 'tensile2d', 'rotor37', 'profile2d', 'airfrans_clipped', 'airfrans_original', 'airfrans_remeshed']\n"
     ]
    }
   ],
   "source": [
    "from plaid.examples import AVAILABLE_EXAMPLES\n",
    "\n",
    "print(AVAILABLE_EXAMPLES)"
   ]
  },
  {
   "cell_type": "code",
   "execution_count": null,
   "metadata": {},
   "outputs": [
    {
     "name": "stdout",
     "output_type": "stream",
     "text": [
      "Dataset(2 samples, 10 scalars, 0 time_series, 6 fields)\n",
      "First retrieval duration: 5.892864 seconds\n"
     ]
    }
   ],
   "source": [
    "from plaid.examples import datasets\n",
    "import time\n",
    "\n",
    "start = time.perf_counter()\n",
    "print(datasets.tensile2d)\n",
    "end = time.perf_counter()\n",
    "print(f\"First dataset retrieval duration: {end - start:.6f} seconds\")\n"
   ]
  },
  {
   "cell_type": "code",
   "execution_count": null,
   "metadata": {},
   "outputs": [
    {
     "name": "stdout",
     "output_type": "stream",
     "text": [
      "Dataset(2 samples, 10 scalars, 0 time_series, 6 fields)\n",
      "Second retrieval duration: 0.000550 seconds\n"
     ]
    }
   ],
   "source": [
    "start = time.perf_counter()\n",
    "print(datasets.tensile2d)\n",
    "end = time.perf_counter()\n",
    "print(f\"Second dataset retrieval duration: {end - start:.6f} seconds\")\n"
   ]
  },
  {
   "cell_type": "markdown",
   "metadata": {},
   "source": [
    "## Section 2: Samples"
   ]
  },
  {
   "cell_type": "code",
   "execution_count": null,
   "metadata": {},
   "outputs": [
    {
     "name": "stdout",
     "output_type": "stream",
     "text": [
      "Sample(8 scalars, 0 time series, 1 timestamp, 8 fields)\n",
      "The tensile2d dataset being already loaded: sample retrieval duration: 14.644088 seconds\n"
     ]
    }
   ],
   "source": [
    "from plaid.examples import samples\n",
    "\n",
    "start = time.perf_counter()\n",
    "print(samples.vki_ls59)\n",
    "\n",
    "end = time.perf_counter()\n",
    "print(f\"First sample retrieval duration: {end - start:.6f} seconds\")"
   ]
  },
  {
   "cell_type": "code",
   "execution_count": 6,
   "metadata": {},
   "outputs": [
    {
     "name": "stdout",
     "output_type": "stream",
     "text": [
      "Sample(10 scalars, 0 time series, 1 timestamp, 6 fields)\n",
      "The tensile2d dataset being already loaded: sample retrieval duration: 0.000546 seconds\n"
     ]
    }
   ],
   "source": [
    "from plaid.examples import samples\n",
    "\n",
    "start = time.perf_counter()\n",
    "print(samples.tensile2d)\n",
    "\n",
    "end = time.perf_counter()\n",
    "print(f\"The tensile2d dataset being already loaded: sample retrieval duration: {end - start:.6f} seconds\")"
   ]
  }
 ],
 "metadata": {
  "kernelspec": {
   "display_name": "plaid-dev",
   "language": "python",
   "name": "python3"
  },
  "language_info": {
   "codemirror_mode": {
    "name": "ipython",
    "version": 3
   },
   "file_extension": ".py",
   "mimetype": "text/x-python",
   "name": "python",
   "nbconvert_exporter": "python",
   "pygments_lexer": "ipython3",
   "version": "3.11.13"
  }
 },
 "nbformat": 4,
 "nbformat_minor": 2
}
