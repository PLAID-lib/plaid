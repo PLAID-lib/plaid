{
 "cells": [
  {
   "cell_type": "markdown",
   "metadata": {},
   "source": [
    "# Downloadable examples\n",
    "\n",
    "This Jupyter Notebook show how to easily retrieve advanced examples online.\n",
    "\n",
    "1. Datasets\n",
    "2. Samples"
   ]
  },
  {
   "cell_type": "code",
   "execution_count": null,
   "metadata": {},
   "outputs": [],
   "source": [
    "import warnings\n",
    "warnings.filterwarnings(\"ignore\", message=\".*IProgress not found.*\")"
   ]
  },
  {
   "cell_type": "markdown",
   "metadata": {},
   "source": [
    "## Section 1: Datasets"
   ]
  },
  {
   "cell_type": "markdown",
   "metadata": {},
   "source": [
    "Retrieving advanded datasets examples is as easy as:"
   ]
  },
  {
   "cell_type": "code",
   "execution_count": null,
   "metadata": {},
   "outputs": [],
   "source": [
    "from plaid.examples import AVAILABLE_EXAMPLES\n",
    "\n",
    "print(AVAILABLE_EXAMPLES)"
   ]
  },
  {
   "cell_type": "code",
   "execution_count": null,
   "metadata": {},
   "outputs": [],
   "source": [
    "from plaid.examples import datasets\n",
    "import time\n",
    "\n",
    "start = time.perf_counter()\n",
    "print(datasets.tensile2d)\n",
    "end = time.perf_counter()\n",
    "print(f\"First dataset retrieval duration: {end - start:.6f} seconds\")\n"
   ]
  },
  {
   "cell_type": "code",
   "execution_count": null,
   "metadata": {},
   "outputs": [],
   "source": [
    "start = time.perf_counter()\n",
    "print(datasets.tensile2d)\n",
    "end = time.perf_counter()\n",
    "print(f\"Second dataset retrieval duration: {end - start:.6f} seconds\")\n"
   ]
  },
  {
   "cell_type": "markdown",
   "metadata": {},
   "source": [
    "## Section 2: Samples"
   ]
  },
  {
   "cell_type": "code",
   "execution_count": null,
   "metadata": {},
   "outputs": [],
   "source": [
    "from plaid.examples import samples\n",
    "\n",
    "start = time.perf_counter()\n",
    "print(samples.vki_ls59)\n",
    "\n",
    "end = time.perf_counter()\n",
    "print(f\"First sample retrieval duration: {end - start:.6f} seconds\")"
   ]
  },
  {
   "cell_type": "code",
   "execution_count": null,
   "metadata": {},
   "outputs": [],
   "source": [
    "from plaid.examples import samples\n",
    "\n",
    "start = time.perf_counter()\n",
    "print(samples.tensile2d)\n",
    "\n",
    "end = time.perf_counter()\n",
    "print(f\"The tensile2d dataset being already loaded: sample retrieval duration: {end - start:.6f} seconds\")"
   ]
  }
 ],
 "metadata": {
  "kernelspec": {
   "display_name": "plaid-dev",
   "language": "python",
   "name": "python3"
  },
  "language_info": {
   "codemirror_mode": {
    "name": "ipython",
    "version": 3
   },
   "file_extension": ".py",
   "mimetype": "text/x-python",
   "name": "python",
   "nbconvert_exporter": "python",
   "pygments_lexer": "ipython3",
   "version": "3.11.13"
  }
 },
 "nbformat": 4,
 "nbformat_minor": 2
}
